{
  "nbformat": 4,
  "nbformat_minor": 0,
  "metadata": {
    "colab": {
      "provenance": [],
      "collapsed_sections": [
        "Ugnt7mjT2Pyt",
        "jaq46wHS2Uh1"
      ],
      "include_colab_link": true
    },
    "kernelspec": {
      "name": "python3",
      "display_name": "Python 3"
    },
    "language_info": {
      "name": "python"
    }
  },
  "cells": [
    {
      "cell_type": "markdown",
      "metadata": {
        "id": "view-in-github",
        "colab_type": "text"
      },
      "source": [
        "<a href=\"https://colab.research.google.com/github/walukas1/DeepDiveDSProjects/blob/main/Project_4_Spotify_Walukas%20v1.ipynb\" target=\"_parent\"><img src=\"https://colab.research.google.com/assets/colab-badge.svg\" alt=\"Open In Colab\"/></a>"
      ]
    },
    {
      "cell_type": "markdown",
      "source": [
        "#Project 4: Predicting popularity on Spotify"
      ],
      "metadata": {
        "id": "cJG_e1vK2NMI"
      }
    },
    {
      "cell_type": "markdown",
      "source": [
        "---\n",
        "---\n",
        "## Problem Definition\n",
        "Predict whether a song will be popular on spotify\n"
      ],
      "metadata": {
        "id": "Ugnt7mjT2Pyt"
      }
    },
    {
      "cell_type": "markdown",
      "source": [
        "###Guiding questions\n",
        "- What is the business problem?  Often some variant of saving time, saving money, and/or making money.\n",
        "  - predict whether or not a future customer will make a transaction based on their transaction data.\n",
        "- What data science problem is this? ( supervised or unsupervised )\n",
        "\n",
        "- If supervised ...\n",
        "  - how did you determine what is the target? What is the target?\n",
        "  - what statistical data type is the target: numerical or categorical?\n",
        "  - would this be a classification or a regression problem?\n",
        "- If unsupervised ...\n",
        "  - what kind of clustering problem?\n",
        "\n",
        "\n"
      ],
      "metadata": {
        "id": "9CB-8YUX0eUo"
      }
    },
    {
      "cell_type": "markdown",
      "source": [
        "---\n",
        "---\n",
        "## Data Collection/Sources\n"
      ],
      "metadata": {
        "id": "jaq46wHS2Uh1"
      }
    },
    {
      "cell_type": "markdown",
      "source": [
        "###Guiding questions\n",
        "- where is the data source located: local file, database, website, API, other?\n",
        "  - https://ddc-datascience.s3.amazonaws.com/Projects/Project.1-Transactions/Data/Transaction.train.csv\n",
        "\n",
        "- where is the data dictionary?\n",
        "- how many bytes ( KB, MB, GB, TB ) is the data set?\n",
        "- what tools did/would you use to get and read the data?\n",
        "  - pandas, numpy and matplot lib"
      ],
      "metadata": {
        "id": "WBGBQvQH1bJh"
      }
    },
    {
      "cell_type": "code",
      "source": [
        "import pandas as pd\n",
        "import numpy as np\n",
        "import matplotlib.pyplot as plt\n",
        "import seaborn as sns\n",
        "import string\n",
        "\n",
        "from sklearn.model_selection import train_test_split\n",
        "from sklearn import datasets, metrics, model_selection\n",
        "from sklearn.metrics import mean_squared_error\n",
        "\n",
        "from sklearn.tree import DecisionTreeRegressor\n",
        "from sklearn.ensemble import RandomForestRegressor\n",
        "import xgboost as xgb\n",
        "from sklearn.model_selection import GridSearchCV"
      ],
      "metadata": {
        "id": "ifZMf9TVK_Kd"
      },
      "execution_count": null,
      "outputs": []
    },
    {
      "cell_type": "markdown",
      "source": [
        "Load training data as csv file and convert to data frame"
      ],
      "metadata": {
        "id": "f2pkyGYuMUhp"
      }
    },
    {
      "cell_type": "code",
      "source": [
        "train_path = 'https://ddc-datascience.s3.amazonaws.com/Projects/Project.4-Spotify/Data/Spotify.csv'\n",
        "train = pd.read_csv(train_path)"
      ],
      "metadata": {
        "id": "vQc07Ay3K71z",
        "collapsed": true
      },
      "execution_count": null,
      "outputs": []
    },
    {
      "cell_type": "code",
      "source": [
        "train.shape"
      ],
      "metadata": {
        "colab": {
          "base_uri": "https://localhost:8080/"
        },
        "id": "Jg_eM7ocXpoF",
        "outputId": "dcb1ff2d-ce58-4b0d-ba6c-b36ea47eedd2"
      },
      "execution_count": null,
      "outputs": [
        {
          "output_type": "execute_result",
          "data": {
            "text/plain": [
              "(1556, 23)"
            ]
          },
          "metadata": {},
          "execution_count": 3
        }
      ]
    },
    {
      "cell_type": "code",
      "source": [
        "train.head()"
      ],
      "metadata": {
        "colab": {
          "base_uri": "https://localhost:8080/",
          "height": 392
        },
        "id": "YCxXYqBNXnwU",
        "outputId": "8ed5f4f1-e4e2-45ce-a8be-4ad7eaa0f3c9"
      },
      "execution_count": null,
      "outputs": [
        {
          "output_type": "execute_result",
          "data": {
            "text/plain": [
              "   Index  Highest Charting Position  Number of Times Charted  \\\n",
              "0      1                          1                        8   \n",
              "1      2                          2                        3   \n",
              "2      3                          1                       11   \n",
              "3      4                          3                        5   \n",
              "4      5                          5                        1   \n",
              "\n",
              "  Week of Highest Charting                          Song Name     Streams  \\\n",
              "0   2021-07-23--2021-07-30                            Beggin'  48,633,449   \n",
              "1   2021-07-23--2021-07-30          STAY (with Justin Bieber)  47,248,719   \n",
              "2   2021-06-25--2021-07-02                           good 4 u  40,162,559   \n",
              "3   2021-07-02--2021-07-09                         Bad Habits  37,799,456   \n",
              "4   2021-07-23--2021-07-30  INDUSTRY BABY (feat. Jack Harlow)  33,948,454   \n",
              "\n",
              "           Artist Artist Followers                 Song ID  \\\n",
              "0        Måneskin          3377762  3Wrjm47oTz2sjIgck11l5e   \n",
              "1   The Kid LAROI          2230022  5HCyWlXZPP0y6Gqq8TgA20   \n",
              "2  Olivia Rodrigo          6266514  4ZtFanR9U6ndgddUvNcjcG   \n",
              "3      Ed Sheeran         83293380  6PQ88X9TkUIAUIZJHW2upE   \n",
              "4       Lil Nas X          5473565  27NovPIUIRrOZoCHxABJwK   \n",
              "\n",
              "                                    Genre  ... Danceability Energy Loudness  \\\n",
              "0  ['indie rock italiano', 'italian pop']  ...        0.714    0.8   -4.808   \n",
              "1                  ['australian hip hop']  ...        0.591  0.764   -5.484   \n",
              "2                                 ['pop']  ...        0.563  0.664   -5.044   \n",
              "3                       ['pop', 'uk pop']  ...        0.808  0.897   -3.712   \n",
              "4           ['lgbtq+ hip hop', 'pop rap']  ...        0.736  0.704   -7.409   \n",
              "\n",
              "  Speechiness Acousticness Liveness    Tempo Duration (ms) Valence  Chord  \n",
              "0      0.0504        0.127    0.359  134.002        211560   0.589      B  \n",
              "1      0.0483       0.0383    0.103  169.928        141806   0.478  C#/Db  \n",
              "2       0.154        0.335   0.0849  166.928        178147   0.688      A  \n",
              "3      0.0348       0.0469    0.364  126.026        231041   0.591      B  \n",
              "4      0.0615       0.0203   0.0501  149.995        212000   0.894  D#/Eb  \n",
              "\n",
              "[5 rows x 23 columns]"
            ],
            "text/html": [
              "\n",
              "  <div id=\"df-34920269-f6d1-4466-84de-77e080a8c79d\" class=\"colab-df-container\">\n",
              "    <div>\n",
              "<style scoped>\n",
              "    .dataframe tbody tr th:only-of-type {\n",
              "        vertical-align: middle;\n",
              "    }\n",
              "\n",
              "    .dataframe tbody tr th {\n",
              "        vertical-align: top;\n",
              "    }\n",
              "\n",
              "    .dataframe thead th {\n",
              "        text-align: right;\n",
              "    }\n",
              "</style>\n",
              "<table border=\"1\" class=\"dataframe\">\n",
              "  <thead>\n",
              "    <tr style=\"text-align: right;\">\n",
              "      <th></th>\n",
              "      <th>Index</th>\n",
              "      <th>Highest Charting Position</th>\n",
              "      <th>Number of Times Charted</th>\n",
              "      <th>Week of Highest Charting</th>\n",
              "      <th>Song Name</th>\n",
              "      <th>Streams</th>\n",
              "      <th>Artist</th>\n",
              "      <th>Artist Followers</th>\n",
              "      <th>Song ID</th>\n",
              "      <th>Genre</th>\n",
              "      <th>...</th>\n",
              "      <th>Danceability</th>\n",
              "      <th>Energy</th>\n",
              "      <th>Loudness</th>\n",
              "      <th>Speechiness</th>\n",
              "      <th>Acousticness</th>\n",
              "      <th>Liveness</th>\n",
              "      <th>Tempo</th>\n",
              "      <th>Duration (ms)</th>\n",
              "      <th>Valence</th>\n",
              "      <th>Chord</th>\n",
              "    </tr>\n",
              "  </thead>\n",
              "  <tbody>\n",
              "    <tr>\n",
              "      <th>0</th>\n",
              "      <td>1</td>\n",
              "      <td>1</td>\n",
              "      <td>8</td>\n",
              "      <td>2021-07-23--2021-07-30</td>\n",
              "      <td>Beggin'</td>\n",
              "      <td>48,633,449</td>\n",
              "      <td>Måneskin</td>\n",
              "      <td>3377762</td>\n",
              "      <td>3Wrjm47oTz2sjIgck11l5e</td>\n",
              "      <td>['indie rock italiano', 'italian pop']</td>\n",
              "      <td>...</td>\n",
              "      <td>0.714</td>\n",
              "      <td>0.8</td>\n",
              "      <td>-4.808</td>\n",
              "      <td>0.0504</td>\n",
              "      <td>0.127</td>\n",
              "      <td>0.359</td>\n",
              "      <td>134.002</td>\n",
              "      <td>211560</td>\n",
              "      <td>0.589</td>\n",
              "      <td>B</td>\n",
              "    </tr>\n",
              "    <tr>\n",
              "      <th>1</th>\n",
              "      <td>2</td>\n",
              "      <td>2</td>\n",
              "      <td>3</td>\n",
              "      <td>2021-07-23--2021-07-30</td>\n",
              "      <td>STAY (with Justin Bieber)</td>\n",
              "      <td>47,248,719</td>\n",
              "      <td>The Kid LAROI</td>\n",
              "      <td>2230022</td>\n",
              "      <td>5HCyWlXZPP0y6Gqq8TgA20</td>\n",
              "      <td>['australian hip hop']</td>\n",
              "      <td>...</td>\n",
              "      <td>0.591</td>\n",
              "      <td>0.764</td>\n",
              "      <td>-5.484</td>\n",
              "      <td>0.0483</td>\n",
              "      <td>0.0383</td>\n",
              "      <td>0.103</td>\n",
              "      <td>169.928</td>\n",
              "      <td>141806</td>\n",
              "      <td>0.478</td>\n",
              "      <td>C#/Db</td>\n",
              "    </tr>\n",
              "    <tr>\n",
              "      <th>2</th>\n",
              "      <td>3</td>\n",
              "      <td>1</td>\n",
              "      <td>11</td>\n",
              "      <td>2021-06-25--2021-07-02</td>\n",
              "      <td>good 4 u</td>\n",
              "      <td>40,162,559</td>\n",
              "      <td>Olivia Rodrigo</td>\n",
              "      <td>6266514</td>\n",
              "      <td>4ZtFanR9U6ndgddUvNcjcG</td>\n",
              "      <td>['pop']</td>\n",
              "      <td>...</td>\n",
              "      <td>0.563</td>\n",
              "      <td>0.664</td>\n",
              "      <td>-5.044</td>\n",
              "      <td>0.154</td>\n",
              "      <td>0.335</td>\n",
              "      <td>0.0849</td>\n",
              "      <td>166.928</td>\n",
              "      <td>178147</td>\n",
              "      <td>0.688</td>\n",
              "      <td>A</td>\n",
              "    </tr>\n",
              "    <tr>\n",
              "      <th>3</th>\n",
              "      <td>4</td>\n",
              "      <td>3</td>\n",
              "      <td>5</td>\n",
              "      <td>2021-07-02--2021-07-09</td>\n",
              "      <td>Bad Habits</td>\n",
              "      <td>37,799,456</td>\n",
              "      <td>Ed Sheeran</td>\n",
              "      <td>83293380</td>\n",
              "      <td>6PQ88X9TkUIAUIZJHW2upE</td>\n",
              "      <td>['pop', 'uk pop']</td>\n",
              "      <td>...</td>\n",
              "      <td>0.808</td>\n",
              "      <td>0.897</td>\n",
              "      <td>-3.712</td>\n",
              "      <td>0.0348</td>\n",
              "      <td>0.0469</td>\n",
              "      <td>0.364</td>\n",
              "      <td>126.026</td>\n",
              "      <td>231041</td>\n",
              "      <td>0.591</td>\n",
              "      <td>B</td>\n",
              "    </tr>\n",
              "    <tr>\n",
              "      <th>4</th>\n",
              "      <td>5</td>\n",
              "      <td>5</td>\n",
              "      <td>1</td>\n",
              "      <td>2021-07-23--2021-07-30</td>\n",
              "      <td>INDUSTRY BABY (feat. Jack Harlow)</td>\n",
              "      <td>33,948,454</td>\n",
              "      <td>Lil Nas X</td>\n",
              "      <td>5473565</td>\n",
              "      <td>27NovPIUIRrOZoCHxABJwK</td>\n",
              "      <td>['lgbtq+ hip hop', 'pop rap']</td>\n",
              "      <td>...</td>\n",
              "      <td>0.736</td>\n",
              "      <td>0.704</td>\n",
              "      <td>-7.409</td>\n",
              "      <td>0.0615</td>\n",
              "      <td>0.0203</td>\n",
              "      <td>0.0501</td>\n",
              "      <td>149.995</td>\n",
              "      <td>212000</td>\n",
              "      <td>0.894</td>\n",
              "      <td>D#/Eb</td>\n",
              "    </tr>\n",
              "  </tbody>\n",
              "</table>\n",
              "<p>5 rows × 23 columns</p>\n",
              "</div>\n",
              "    <div class=\"colab-df-buttons\">\n",
              "\n",
              "  <div class=\"colab-df-container\">\n",
              "    <button class=\"colab-df-convert\" onclick=\"convertToInteractive('df-34920269-f6d1-4466-84de-77e080a8c79d')\"\n",
              "            title=\"Convert this dataframe to an interactive table.\"\n",
              "            style=\"display:none;\">\n",
              "\n",
              "  <svg xmlns=\"http://www.w3.org/2000/svg\" height=\"24px\" viewBox=\"0 -960 960 960\">\n",
              "    <path d=\"M120-120v-720h720v720H120Zm60-500h600v-160H180v160Zm220 220h160v-160H400v160Zm0 220h160v-160H400v160ZM180-400h160v-160H180v160Zm440 0h160v-160H620v160ZM180-180h160v-160H180v160Zm440 0h160v-160H620v160Z\"/>\n",
              "  </svg>\n",
              "    </button>\n",
              "\n",
              "  <style>\n",
              "    .colab-df-container {\n",
              "      display:flex;\n",
              "      gap: 12px;\n",
              "    }\n",
              "\n",
              "    .colab-df-convert {\n",
              "      background-color: #E8F0FE;\n",
              "      border: none;\n",
              "      border-radius: 50%;\n",
              "      cursor: pointer;\n",
              "      display: none;\n",
              "      fill: #1967D2;\n",
              "      height: 32px;\n",
              "      padding: 0 0 0 0;\n",
              "      width: 32px;\n",
              "    }\n",
              "\n",
              "    .colab-df-convert:hover {\n",
              "      background-color: #E2EBFA;\n",
              "      box-shadow: 0px 1px 2px rgba(60, 64, 67, 0.3), 0px 1px 3px 1px rgba(60, 64, 67, 0.15);\n",
              "      fill: #174EA6;\n",
              "    }\n",
              "\n",
              "    .colab-df-buttons div {\n",
              "      margin-bottom: 4px;\n",
              "    }\n",
              "\n",
              "    [theme=dark] .colab-df-convert {\n",
              "      background-color: #3B4455;\n",
              "      fill: #D2E3FC;\n",
              "    }\n",
              "\n",
              "    [theme=dark] .colab-df-convert:hover {\n",
              "      background-color: #434B5C;\n",
              "      box-shadow: 0px 1px 3px 1px rgba(0, 0, 0, 0.15);\n",
              "      filter: drop-shadow(0px 1px 2px rgba(0, 0, 0, 0.3));\n",
              "      fill: #FFFFFF;\n",
              "    }\n",
              "  </style>\n",
              "\n",
              "    <script>\n",
              "      const buttonEl =\n",
              "        document.querySelector('#df-34920269-f6d1-4466-84de-77e080a8c79d button.colab-df-convert');\n",
              "      buttonEl.style.display =\n",
              "        google.colab.kernel.accessAllowed ? 'block' : 'none';\n",
              "\n",
              "      async function convertToInteractive(key) {\n",
              "        const element = document.querySelector('#df-34920269-f6d1-4466-84de-77e080a8c79d');\n",
              "        const dataTable =\n",
              "          await google.colab.kernel.invokeFunction('convertToInteractive',\n",
              "                                                    [key], {});\n",
              "        if (!dataTable) return;\n",
              "\n",
              "        const docLinkHtml = 'Like what you see? Visit the ' +\n",
              "          '<a target=\"_blank\" href=https://colab.research.google.com/notebooks/data_table.ipynb>data table notebook</a>'\n",
              "          + ' to learn more about interactive tables.';\n",
              "        element.innerHTML = '';\n",
              "        dataTable['output_type'] = 'display_data';\n",
              "        await google.colab.output.renderOutput(dataTable, element);\n",
              "        const docLink = document.createElement('div');\n",
              "        docLink.innerHTML = docLinkHtml;\n",
              "        element.appendChild(docLink);\n",
              "      }\n",
              "    </script>\n",
              "  </div>\n",
              "\n",
              "\n",
              "<div id=\"df-1dc59c5b-10e3-45b0-8556-1cbaca42d868\">\n",
              "  <button class=\"colab-df-quickchart\" onclick=\"quickchart('df-1dc59c5b-10e3-45b0-8556-1cbaca42d868')\"\n",
              "            title=\"Suggest charts\"\n",
              "            style=\"display:none;\">\n",
              "\n",
              "<svg xmlns=\"http://www.w3.org/2000/svg\" height=\"24px\"viewBox=\"0 0 24 24\"\n",
              "     width=\"24px\">\n",
              "    <g>\n",
              "        <path d=\"M19 3H5c-1.1 0-2 .9-2 2v14c0 1.1.9 2 2 2h14c1.1 0 2-.9 2-2V5c0-1.1-.9-2-2-2zM9 17H7v-7h2v7zm4 0h-2V7h2v10zm4 0h-2v-4h2v4z\"/>\n",
              "    </g>\n",
              "</svg>\n",
              "  </button>\n",
              "\n",
              "<style>\n",
              "  .colab-df-quickchart {\n",
              "      --bg-color: #E8F0FE;\n",
              "      --fill-color: #1967D2;\n",
              "      --hover-bg-color: #E2EBFA;\n",
              "      --hover-fill-color: #174EA6;\n",
              "      --disabled-fill-color: #AAA;\n",
              "      --disabled-bg-color: #DDD;\n",
              "  }\n",
              "\n",
              "  [theme=dark] .colab-df-quickchart {\n",
              "      --bg-color: #3B4455;\n",
              "      --fill-color: #D2E3FC;\n",
              "      --hover-bg-color: #434B5C;\n",
              "      --hover-fill-color: #FFFFFF;\n",
              "      --disabled-bg-color: #3B4455;\n",
              "      --disabled-fill-color: #666;\n",
              "  }\n",
              "\n",
              "  .colab-df-quickchart {\n",
              "    background-color: var(--bg-color);\n",
              "    border: none;\n",
              "    border-radius: 50%;\n",
              "    cursor: pointer;\n",
              "    display: none;\n",
              "    fill: var(--fill-color);\n",
              "    height: 32px;\n",
              "    padding: 0;\n",
              "    width: 32px;\n",
              "  }\n",
              "\n",
              "  .colab-df-quickchart:hover {\n",
              "    background-color: var(--hover-bg-color);\n",
              "    box-shadow: 0 1px 2px rgba(60, 64, 67, 0.3), 0 1px 3px 1px rgba(60, 64, 67, 0.15);\n",
              "    fill: var(--button-hover-fill-color);\n",
              "  }\n",
              "\n",
              "  .colab-df-quickchart-complete:disabled,\n",
              "  .colab-df-quickchart-complete:disabled:hover {\n",
              "    background-color: var(--disabled-bg-color);\n",
              "    fill: var(--disabled-fill-color);\n",
              "    box-shadow: none;\n",
              "  }\n",
              "\n",
              "  .colab-df-spinner {\n",
              "    border: 2px solid var(--fill-color);\n",
              "    border-color: transparent;\n",
              "    border-bottom-color: var(--fill-color);\n",
              "    animation:\n",
              "      spin 1s steps(1) infinite;\n",
              "  }\n",
              "\n",
              "  @keyframes spin {\n",
              "    0% {\n",
              "      border-color: transparent;\n",
              "      border-bottom-color: var(--fill-color);\n",
              "      border-left-color: var(--fill-color);\n",
              "    }\n",
              "    20% {\n",
              "      border-color: transparent;\n",
              "      border-left-color: var(--fill-color);\n",
              "      border-top-color: var(--fill-color);\n",
              "    }\n",
              "    30% {\n",
              "      border-color: transparent;\n",
              "      border-left-color: var(--fill-color);\n",
              "      border-top-color: var(--fill-color);\n",
              "      border-right-color: var(--fill-color);\n",
              "    }\n",
              "    40% {\n",
              "      border-color: transparent;\n",
              "      border-right-color: var(--fill-color);\n",
              "      border-top-color: var(--fill-color);\n",
              "    }\n",
              "    60% {\n",
              "      border-color: transparent;\n",
              "      border-right-color: var(--fill-color);\n",
              "    }\n",
              "    80% {\n",
              "      border-color: transparent;\n",
              "      border-right-color: var(--fill-color);\n",
              "      border-bottom-color: var(--fill-color);\n",
              "    }\n",
              "    90% {\n",
              "      border-color: transparent;\n",
              "      border-bottom-color: var(--fill-color);\n",
              "    }\n",
              "  }\n",
              "</style>\n",
              "\n",
              "  <script>\n",
              "    async function quickchart(key) {\n",
              "      const quickchartButtonEl =\n",
              "        document.querySelector('#' + key + ' button');\n",
              "      quickchartButtonEl.disabled = true;  // To prevent multiple clicks.\n",
              "      quickchartButtonEl.classList.add('colab-df-spinner');\n",
              "      try {\n",
              "        const charts = await google.colab.kernel.invokeFunction(\n",
              "            'suggestCharts', [key], {});\n",
              "      } catch (error) {\n",
              "        console.error('Error during call to suggestCharts:', error);\n",
              "      }\n",
              "      quickchartButtonEl.classList.remove('colab-df-spinner');\n",
              "      quickchartButtonEl.classList.add('colab-df-quickchart-complete');\n",
              "    }\n",
              "    (() => {\n",
              "      let quickchartButtonEl =\n",
              "        document.querySelector('#df-1dc59c5b-10e3-45b0-8556-1cbaca42d868 button');\n",
              "      quickchartButtonEl.style.display =\n",
              "        google.colab.kernel.accessAllowed ? 'block' : 'none';\n",
              "    })();\n",
              "  </script>\n",
              "</div>\n",
              "\n",
              "    </div>\n",
              "  </div>\n"
            ],
            "application/vnd.google.colaboratory.intrinsic+json": {
              "type": "dataframe",
              "variable_name": "train"
            }
          },
          "metadata": {},
          "execution_count": 4
        }
      ]
    },
    {
      "cell_type": "markdown",
      "source": [
        "##IDA\n",
        "\n",
        "\n"
      ],
      "metadata": {
        "id": "HEdrsI6W5t6q"
      }
    },
    {
      "cell_type": "markdown",
      "source": [
        "Guiding Questions\n",
        "- how can/did you discover how many rows?\n",
        "- how can/did you discover how many columns?\n",
        "- how can/did you discover if there are any unique identifiers and how would/did you handle them?\n",
        "- how can/did you discover if there are any nulls and how would/did you handle them?\n",
        "- if supervised, how can/did you discover if there are any nulls in your target and how would/did you handle them?\n",
        "- how can/did you discover if there are any duplicates and how would/did you handle them?\n",
        "- how can/did you discover if there are any missing values and how would/did you handle them?\n",
        "- how can/did you discover if there are any nested fields and how would/did you handle them?"
      ],
      "metadata": {
        "id": "yOKJr-6tiqE8"
      }
    },
    {
      "cell_type": "markdown",
      "source": [
        "##Deciding target column\n",
        "between ['Highest Charting Position','Streams','Popularity','Weeks Charted']"
      ],
      "metadata": {
        "id": "PEbAyU8l5dsf"
      }
    },
    {
      "cell_type": "code",
      "source": [
        "train.columns"
      ],
      "metadata": {
        "colab": {
          "base_uri": "https://localhost:8080/"
        },
        "id": "tzH01qrJ2ko6",
        "outputId": "4290e7dc-d347-4a8d-f164-57760115c02f"
      },
      "execution_count": null,
      "outputs": [
        {
          "output_type": "execute_result",
          "data": {
            "text/plain": [
              "Index(['Index', 'Highest Charting Position', 'Number of Times Charted',\n",
              "       'Week of Highest Charting', 'Song Name', 'Streams', 'Artist',\n",
              "       'Artist Followers', 'Song ID', 'Genre', 'Release Date', 'Weeks Charted',\n",
              "       'Popularity', 'Danceability', 'Energy', 'Loudness', 'Speechiness',\n",
              "       'Acousticness', 'Liveness', 'Tempo', 'Duration (ms)', 'Valence',\n",
              "       'Chord'],\n",
              "      dtype='object')"
            ]
          },
          "metadata": {},
          "execution_count": 5
        }
      ]
    },
    {
      "cell_type": "code",
      "source": [
        "pop_columns = ['Highest Charting Position','Number of Times Charted','Weeks Charted','Streams','Popularity']\n",
        "pop_df = train[pop_columns]\n",
        "pop_cate= pd.DataFrame()"
      ],
      "metadata": {
        "id": "D0EEFag-2ytS"
      },
      "execution_count": null,
      "outputs": []
    },
    {
      "cell_type": "code",
      "source": [
        "pop_cate['Nulls'] = pop_df.isnull().sum()\n",
        "pop_cate['Duplicates'] = pop_df.duplicated().sum()\n",
        "pop_cate['Uniques'] = pop_df.nunique()\n",
        "pop_cate['Dtype'] = pop_df.dtypes\n",
        "pop_cate['Sample data'] = pop_df.iloc[0]"
      ],
      "metadata": {
        "id": "Fx-WdEBB3zdi"
      },
      "execution_count": null,
      "outputs": []
    },
    {
      "cell_type": "code",
      "source": [
        "for i in pop_columns:\n",
        "  print(pop_df[i].value_counts())"
      ],
      "metadata": {
        "colab": {
          "base_uri": "https://localhost:8080/"
        },
        "collapsed": true,
        "id": "A3K8-1iF-H5T",
        "outputId": "f46ee66f-a06d-4b67-abff-f703dbdd0e24"
      },
      "execution_count": null,
      "outputs": [
        {
          "output_type": "stream",
          "name": "stdout",
          "text": [
            "Highest Charting Position\n",
            "1      18\n",
            "2      18\n",
            "5      17\n",
            "15     15\n",
            "22     15\n",
            "       ..\n",
            "98      2\n",
            "173     2\n",
            "165     2\n",
            "200     2\n",
            "178     1\n",
            "Name: count, Length: 200, dtype: int64\n",
            "Number of Times Charted\n",
            "1     509\n",
            "2     149\n",
            "3     110\n",
            "4      77\n",
            "5      71\n",
            "     ... \n",
            "74      1\n",
            "47      1\n",
            "77      1\n",
            "56      1\n",
            "84      1\n",
            "Name: count, Length: 75, dtype: int64\n",
            "Weeks Charted\n",
            "2020-12-18--2020-12-25                                                                                                                                                                                                                                                                                                                                                                                                                                                                                                                                                                                                                                                                                                                                                                                                                                                                                                                                                                                                                                                                                                                                                                                                                                                                                                                                                                                                    32\n",
            "2020-01-17--2020-01-24                                                                                                                                                                                                                                                                                                                                                                                                                                                                                                                                                                                                                                                                                                                                                                                                                                                                                                                                                                                                                                                                                                                                                                                                                                                                                                                                                                                                    24\n",
            "2020-02-14--2020-02-21                                                                                                                                                                                                                                                                                                                                                                                                                                                                                                                                                                                                                                                                                                                                                                                                                                                                                                                                                                                                                                                                                                                                                                                                                                                                                                                                                                                                    20\n",
            "2020-12-11--2020-12-18                                                                                                                                                                                                                                                                                                                                                                                                                                                                                                                                                                                                                                                                                                                                                                                                                                                                                                                                                                                                                                                                                                                                                                                                                                                                                                                                                                                                    18\n",
            "2020-05-29--2020-06-05                                                                                                                                                                                                                                                                                                                                                                                                                                                                                                                                                                                                                                                                                                                                                                                                                                                                                                                                                                                                                                                                                                                                                                                                                                                                                                                                                                                                    17\n",
            "                                                                                                                                                                                                                                                                                                                                                                                                                                                                                                                                                                                                                                                                                                                                                                                                                                                                                                                                                                                                                                                                                                                                                                                                                                                                                                                                                                                                                          ..\n",
            "2021-02-19--2021-02-26\\n2021-02-12--2021-02-19\\n2021-02-05--2021-02-12\\n2021-01-29--2021-02-05\\n2021-01-22--2021-01-29\\n2021-01-15--2021-01-22\\n2021-01-08--2021-01-15\\n2021-01-01--2021-01-08\\n2020-12-25--2021-01-01\\n2020-11-20--2020-11-27\\n2020-11-13--2020-11-20\\n2020-11-06--2020-11-13\\n2020-10-30--2020-11-06\\n2020-10-23--2020-10-30\\n2020-10-16--2020-10-23\\n2020-10-09--2020-10-16\\n2020-10-02--2020-10-09\\n2020-09-25--2020-10-02\\n2020-09-18--2020-09-25\\n2020-09-11--2020-09-18\\n2020-09-04--2020-09-11\\n2020-08-28--2020-09-04\\n2020-08-21--2020-08-28\\n2020-08-14--2020-08-21\\n2020-08-07--2020-08-14\\n2020-07-31--2020-08-07\\n2020-07-24--2020-07-31\\n2020-07-17--2020-07-24\\n2020-07-10--2020-07-17\\n2020-07-03--2020-07-10\\n2020-06-26--2020-07-03\\n2020-06-19--2020-06-26\\n2020-06-12--2020-06-19\\n2020-06-05--2020-06-12\\n2020-05-29--2020-06-05\\n2020-05-22--2020-05-29\\n2020-05-15--2020-05-22\\n2020-05-08--2020-05-15\\n2020-05-01--2020-05-08\\n2020-04-24--2020-05-01\\n2020-04-17--2020-04-24\\n2020-04-10--2020-04-17\\n2020-04-03--2020-04-10\\n2020-03-27--2020-04-03\\n2020-03-20--2020-03-27\\n2020-03-13--2020-03-20\\n2020-03-06--2020-03-13\\n2020-02-28--2020-03-06\\n2020-02-21--2020-02-28\\n2020-02-14--2020-02-21\\n2020-02-07--2020-02-14\\n2020-01-31--2020-02-07\\n2020-01-24--2020-01-31\\n2020-01-17--2020-01-24\\n2020-01-10--2020-01-17\\n2020-01-03--2020-01-10\\n2019-12-27--2020-01-03     1\n",
            "2021-02-12--2021-02-19\\n2021-02-05--2021-02-12\\n2021-01-29--2021-02-05\\n2021-01-22--2021-01-29\\n2021-01-15--2021-01-22\\n2021-01-08--2021-01-15\\n2021-01-01--2021-01-08\\n2020-12-25--2021-01-01\\n2020-12-18--2020-12-25\\n2020-12-11--2020-12-18\\n2020-12-04--2020-12-11                                                                                                                                                                                                                                                                                                                                                                                                                                                                                                                                                                                                                                                                                                                                                                                                                                                                                                                                                                                                                                                                                                                                                     1\n",
            "2021-02-12--2021-02-19\\n2021-02-05--2021-02-12\\n2021-01-29--2021-02-05\\n2021-01-22--2021-01-29\\n2021-01-15--2021-01-22\\n2021-01-08--2021-01-15\\n2021-01-01--2021-01-08\\n2020-12-25--2021-01-01\\n2020-12-18--2020-12-25\\n2020-12-11--2020-12-18\\n2020-12-04--2020-12-11\\n2020-11-27--2020-12-04\\n2020-11-20--2020-11-27\\n2020-11-13--2020-11-20\\n2020-11-06--2020-11-13                                                                                                                                                                                                                                                                                                                                                                                                                                                                                                                                                                                                                                                                                                                                                                                                                                                                                                                                                                                                                                                     1\n",
            "2021-02-12--2021-02-19\\n2021-01-29--2021-02-05\\n2021-01-22--2021-01-29\\n2021-01-15--2021-01-22\\n2021-01-08--2021-01-15\\n2021-01-01--2021-01-08\\n2020-12-25--2021-01-01                                                                                                                                                                                                                                                                                                                                                                                                                                                                                                                                                                                                                                                                                                                                                                                                                                                                                                                                                                                                                                                                                                                                                                                                                                                     1\n",
            "2020-12-04--2020-12-11\\n2020-11-27--2020-12-04\\n2020-11-20--2020-11-27                                                                                                                                                                                                                                                                                                                                                                                                                                                                                                                                                                                                                                                                                                                                                                                                                                                                                                                                                                                                                                                                                                                                                                                                                                                                                                                                                     1\n",
            "Name: count, Length: 775, dtype: int64\n",
            "Streams\n",
            "48,633,449    1\n",
            "4,613,982     1\n",
            "7,308,690     1\n",
            "8,443,771     1\n",
            "9,011,502     1\n",
            "             ..\n",
            "5,060,903     1\n",
            "5,073,657     1\n",
            "5,093,408     1\n",
            "5,168,240     1\n",
            "4,595,450     1\n",
            "Name: count, Length: 1556, dtype: int64\n",
            "Popularity\n",
            "75    67\n",
            "76    66\n",
            "72    64\n",
            "77    62\n",
            "80    58\n",
            "      ..\n",
            "38     1\n",
            "46     1\n",
            "97     1\n",
            "98     1\n",
            "3      1\n",
            "Name: count, Length: 70, dtype: int64\n"
          ]
        }
      ]
    },
    {
      "cell_type": "code",
      "source": [
        "pop_cate"
      ],
      "metadata": {
        "colab": {
          "base_uri": "https://localhost:8080/",
          "height": 206
        },
        "id": "_GYgAZ3o3sFB",
        "outputId": "5a30d124-ad49-40f8-87ff-57a07be04341",
        "collapsed": true
      },
      "execution_count": null,
      "outputs": [
        {
          "output_type": "execute_result",
          "data": {
            "text/plain": [
              "                           Nulls  Duplicates  Uniques   Dtype  \\\n",
              "Highest Charting Position      0           0      200   int64   \n",
              "Number of Times Charted        0           0       75   int64   \n",
              "Weeks Charted                  0           0      775  object   \n",
              "Streams                        0           0     1556  object   \n",
              "Popularity                     0           0       70  object   \n",
              "\n",
              "                                                                 Sample data  \n",
              "Highest Charting Position                                                  1  \n",
              "Number of Times Charted                                                    8  \n",
              "Weeks Charted              2021-07-23--2021-07-30\\n2021-07-16--2021-07-23...  \n",
              "Streams                                                           48,633,449  \n",
              "Popularity                                                               100  "
            ],
            "text/html": [
              "\n",
              "  <div id=\"df-ffbbc442-03ea-48f0-b0e9-0e9bf60bd703\" class=\"colab-df-container\">\n",
              "    <div>\n",
              "<style scoped>\n",
              "    .dataframe tbody tr th:only-of-type {\n",
              "        vertical-align: middle;\n",
              "    }\n",
              "\n",
              "    .dataframe tbody tr th {\n",
              "        vertical-align: top;\n",
              "    }\n",
              "\n",
              "    .dataframe thead th {\n",
              "        text-align: right;\n",
              "    }\n",
              "</style>\n",
              "<table border=\"1\" class=\"dataframe\">\n",
              "  <thead>\n",
              "    <tr style=\"text-align: right;\">\n",
              "      <th></th>\n",
              "      <th>Nulls</th>\n",
              "      <th>Duplicates</th>\n",
              "      <th>Uniques</th>\n",
              "      <th>Dtype</th>\n",
              "      <th>Sample data</th>\n",
              "    </tr>\n",
              "  </thead>\n",
              "  <tbody>\n",
              "    <tr>\n",
              "      <th>Highest Charting Position</th>\n",
              "      <td>0</td>\n",
              "      <td>0</td>\n",
              "      <td>200</td>\n",
              "      <td>int64</td>\n",
              "      <td>1</td>\n",
              "    </tr>\n",
              "    <tr>\n",
              "      <th>Number of Times Charted</th>\n",
              "      <td>0</td>\n",
              "      <td>0</td>\n",
              "      <td>75</td>\n",
              "      <td>int64</td>\n",
              "      <td>8</td>\n",
              "    </tr>\n",
              "    <tr>\n",
              "      <th>Weeks Charted</th>\n",
              "      <td>0</td>\n",
              "      <td>0</td>\n",
              "      <td>775</td>\n",
              "      <td>object</td>\n",
              "      <td>2021-07-23--2021-07-30\\n2021-07-16--2021-07-23...</td>\n",
              "    </tr>\n",
              "    <tr>\n",
              "      <th>Streams</th>\n",
              "      <td>0</td>\n",
              "      <td>0</td>\n",
              "      <td>1556</td>\n",
              "      <td>object</td>\n",
              "      <td>48,633,449</td>\n",
              "    </tr>\n",
              "    <tr>\n",
              "      <th>Popularity</th>\n",
              "      <td>0</td>\n",
              "      <td>0</td>\n",
              "      <td>70</td>\n",
              "      <td>object</td>\n",
              "      <td>100</td>\n",
              "    </tr>\n",
              "  </tbody>\n",
              "</table>\n",
              "</div>\n",
              "    <div class=\"colab-df-buttons\">\n",
              "\n",
              "  <div class=\"colab-df-container\">\n",
              "    <button class=\"colab-df-convert\" onclick=\"convertToInteractive('df-ffbbc442-03ea-48f0-b0e9-0e9bf60bd703')\"\n",
              "            title=\"Convert this dataframe to an interactive table.\"\n",
              "            style=\"display:none;\">\n",
              "\n",
              "  <svg xmlns=\"http://www.w3.org/2000/svg\" height=\"24px\" viewBox=\"0 -960 960 960\">\n",
              "    <path d=\"M120-120v-720h720v720H120Zm60-500h600v-160H180v160Zm220 220h160v-160H400v160Zm0 220h160v-160H400v160ZM180-400h160v-160H180v160Zm440 0h160v-160H620v160ZM180-180h160v-160H180v160Zm440 0h160v-160H620v160Z\"/>\n",
              "  </svg>\n",
              "    </button>\n",
              "\n",
              "  <style>\n",
              "    .colab-df-container {\n",
              "      display:flex;\n",
              "      gap: 12px;\n",
              "    }\n",
              "\n",
              "    .colab-df-convert {\n",
              "      background-color: #E8F0FE;\n",
              "      border: none;\n",
              "      border-radius: 50%;\n",
              "      cursor: pointer;\n",
              "      display: none;\n",
              "      fill: #1967D2;\n",
              "      height: 32px;\n",
              "      padding: 0 0 0 0;\n",
              "      width: 32px;\n",
              "    }\n",
              "\n",
              "    .colab-df-convert:hover {\n",
              "      background-color: #E2EBFA;\n",
              "      box-shadow: 0px 1px 2px rgba(60, 64, 67, 0.3), 0px 1px 3px 1px rgba(60, 64, 67, 0.15);\n",
              "      fill: #174EA6;\n",
              "    }\n",
              "\n",
              "    .colab-df-buttons div {\n",
              "      margin-bottom: 4px;\n",
              "    }\n",
              "\n",
              "    [theme=dark] .colab-df-convert {\n",
              "      background-color: #3B4455;\n",
              "      fill: #D2E3FC;\n",
              "    }\n",
              "\n",
              "    [theme=dark] .colab-df-convert:hover {\n",
              "      background-color: #434B5C;\n",
              "      box-shadow: 0px 1px 3px 1px rgba(0, 0, 0, 0.15);\n",
              "      filter: drop-shadow(0px 1px 2px rgba(0, 0, 0, 0.3));\n",
              "      fill: #FFFFFF;\n",
              "    }\n",
              "  </style>\n",
              "\n",
              "    <script>\n",
              "      const buttonEl =\n",
              "        document.querySelector('#df-ffbbc442-03ea-48f0-b0e9-0e9bf60bd703 button.colab-df-convert');\n",
              "      buttonEl.style.display =\n",
              "        google.colab.kernel.accessAllowed ? 'block' : 'none';\n",
              "\n",
              "      async function convertToInteractive(key) {\n",
              "        const element = document.querySelector('#df-ffbbc442-03ea-48f0-b0e9-0e9bf60bd703');\n",
              "        const dataTable =\n",
              "          await google.colab.kernel.invokeFunction('convertToInteractive',\n",
              "                                                    [key], {});\n",
              "        if (!dataTable) return;\n",
              "\n",
              "        const docLinkHtml = 'Like what you see? Visit the ' +\n",
              "          '<a target=\"_blank\" href=https://colab.research.google.com/notebooks/data_table.ipynb>data table notebook</a>'\n",
              "          + ' to learn more about interactive tables.';\n",
              "        element.innerHTML = '';\n",
              "        dataTable['output_type'] = 'display_data';\n",
              "        await google.colab.output.renderOutput(dataTable, element);\n",
              "        const docLink = document.createElement('div');\n",
              "        docLink.innerHTML = docLinkHtml;\n",
              "        element.appendChild(docLink);\n",
              "      }\n",
              "    </script>\n",
              "  </div>\n",
              "\n",
              "\n",
              "<div id=\"df-c1cab311-20d6-4b40-9ba8-6616bf87162d\">\n",
              "  <button class=\"colab-df-quickchart\" onclick=\"quickchart('df-c1cab311-20d6-4b40-9ba8-6616bf87162d')\"\n",
              "            title=\"Suggest charts\"\n",
              "            style=\"display:none;\">\n",
              "\n",
              "<svg xmlns=\"http://www.w3.org/2000/svg\" height=\"24px\"viewBox=\"0 0 24 24\"\n",
              "     width=\"24px\">\n",
              "    <g>\n",
              "        <path d=\"M19 3H5c-1.1 0-2 .9-2 2v14c0 1.1.9 2 2 2h14c1.1 0 2-.9 2-2V5c0-1.1-.9-2-2-2zM9 17H7v-7h2v7zm4 0h-2V7h2v10zm4 0h-2v-4h2v4z\"/>\n",
              "    </g>\n",
              "</svg>\n",
              "  </button>\n",
              "\n",
              "<style>\n",
              "  .colab-df-quickchart {\n",
              "      --bg-color: #E8F0FE;\n",
              "      --fill-color: #1967D2;\n",
              "      --hover-bg-color: #E2EBFA;\n",
              "      --hover-fill-color: #174EA6;\n",
              "      --disabled-fill-color: #AAA;\n",
              "      --disabled-bg-color: #DDD;\n",
              "  }\n",
              "\n",
              "  [theme=dark] .colab-df-quickchart {\n",
              "      --bg-color: #3B4455;\n",
              "      --fill-color: #D2E3FC;\n",
              "      --hover-bg-color: #434B5C;\n",
              "      --hover-fill-color: #FFFFFF;\n",
              "      --disabled-bg-color: #3B4455;\n",
              "      --disabled-fill-color: #666;\n",
              "  }\n",
              "\n",
              "  .colab-df-quickchart {\n",
              "    background-color: var(--bg-color);\n",
              "    border: none;\n",
              "    border-radius: 50%;\n",
              "    cursor: pointer;\n",
              "    display: none;\n",
              "    fill: var(--fill-color);\n",
              "    height: 32px;\n",
              "    padding: 0;\n",
              "    width: 32px;\n",
              "  }\n",
              "\n",
              "  .colab-df-quickchart:hover {\n",
              "    background-color: var(--hover-bg-color);\n",
              "    box-shadow: 0 1px 2px rgba(60, 64, 67, 0.3), 0 1px 3px 1px rgba(60, 64, 67, 0.15);\n",
              "    fill: var(--button-hover-fill-color);\n",
              "  }\n",
              "\n",
              "  .colab-df-quickchart-complete:disabled,\n",
              "  .colab-df-quickchart-complete:disabled:hover {\n",
              "    background-color: var(--disabled-bg-color);\n",
              "    fill: var(--disabled-fill-color);\n",
              "    box-shadow: none;\n",
              "  }\n",
              "\n",
              "  .colab-df-spinner {\n",
              "    border: 2px solid var(--fill-color);\n",
              "    border-color: transparent;\n",
              "    border-bottom-color: var(--fill-color);\n",
              "    animation:\n",
              "      spin 1s steps(1) infinite;\n",
              "  }\n",
              "\n",
              "  @keyframes spin {\n",
              "    0% {\n",
              "      border-color: transparent;\n",
              "      border-bottom-color: var(--fill-color);\n",
              "      border-left-color: var(--fill-color);\n",
              "    }\n",
              "    20% {\n",
              "      border-color: transparent;\n",
              "      border-left-color: var(--fill-color);\n",
              "      border-top-color: var(--fill-color);\n",
              "    }\n",
              "    30% {\n",
              "      border-color: transparent;\n",
              "      border-left-color: var(--fill-color);\n",
              "      border-top-color: var(--fill-color);\n",
              "      border-right-color: var(--fill-color);\n",
              "    }\n",
              "    40% {\n",
              "      border-color: transparent;\n",
              "      border-right-color: var(--fill-color);\n",
              "      border-top-color: var(--fill-color);\n",
              "    }\n",
              "    60% {\n",
              "      border-color: transparent;\n",
              "      border-right-color: var(--fill-color);\n",
              "    }\n",
              "    80% {\n",
              "      border-color: transparent;\n",
              "      border-right-color: var(--fill-color);\n",
              "      border-bottom-color: var(--fill-color);\n",
              "    }\n",
              "    90% {\n",
              "      border-color: transparent;\n",
              "      border-bottom-color: var(--fill-color);\n",
              "    }\n",
              "  }\n",
              "</style>\n",
              "\n",
              "  <script>\n",
              "    async function quickchart(key) {\n",
              "      const quickchartButtonEl =\n",
              "        document.querySelector('#' + key + ' button');\n",
              "      quickchartButtonEl.disabled = true;  // To prevent multiple clicks.\n",
              "      quickchartButtonEl.classList.add('colab-df-spinner');\n",
              "      try {\n",
              "        const charts = await google.colab.kernel.invokeFunction(\n",
              "            'suggestCharts', [key], {});\n",
              "      } catch (error) {\n",
              "        console.error('Error during call to suggestCharts:', error);\n",
              "      }\n",
              "      quickchartButtonEl.classList.remove('colab-df-spinner');\n",
              "      quickchartButtonEl.classList.add('colab-df-quickchart-complete');\n",
              "    }\n",
              "    (() => {\n",
              "      let quickchartButtonEl =\n",
              "        document.querySelector('#df-c1cab311-20d6-4b40-9ba8-6616bf87162d button');\n",
              "      quickchartButtonEl.style.display =\n",
              "        google.colab.kernel.accessAllowed ? 'block' : 'none';\n",
              "    })();\n",
              "  </script>\n",
              "</div>\n",
              "\n",
              "  <div id=\"id_67d09c66-30eb-4218-9940-27bbf82295c8\">\n",
              "    <style>\n",
              "      .colab-df-generate {\n",
              "        background-color: #E8F0FE;\n",
              "        border: none;\n",
              "        border-radius: 50%;\n",
              "        cursor: pointer;\n",
              "        display: none;\n",
              "        fill: #1967D2;\n",
              "        height: 32px;\n",
              "        padding: 0 0 0 0;\n",
              "        width: 32px;\n",
              "      }\n",
              "\n",
              "      .colab-df-generate:hover {\n",
              "        background-color: #E2EBFA;\n",
              "        box-shadow: 0px 1px 2px rgba(60, 64, 67, 0.3), 0px 1px 3px 1px rgba(60, 64, 67, 0.15);\n",
              "        fill: #174EA6;\n",
              "      }\n",
              "\n",
              "      [theme=dark] .colab-df-generate {\n",
              "        background-color: #3B4455;\n",
              "        fill: #D2E3FC;\n",
              "      }\n",
              "\n",
              "      [theme=dark] .colab-df-generate:hover {\n",
              "        background-color: #434B5C;\n",
              "        box-shadow: 0px 1px 3px 1px rgba(0, 0, 0, 0.15);\n",
              "        filter: drop-shadow(0px 1px 2px rgba(0, 0, 0, 0.3));\n",
              "        fill: #FFFFFF;\n",
              "      }\n",
              "    </style>\n",
              "    <button class=\"colab-df-generate\" onclick=\"generateWithVariable('pop_cate')\"\n",
              "            title=\"Generate code using this dataframe.\"\n",
              "            style=\"display:none;\">\n",
              "\n",
              "  <svg xmlns=\"http://www.w3.org/2000/svg\" height=\"24px\"viewBox=\"0 0 24 24\"\n",
              "       width=\"24px\">\n",
              "    <path d=\"M7,19H8.4L18.45,9,17,7.55,7,17.6ZM5,21V16.75L18.45,3.32a2,2,0,0,1,2.83,0l1.4,1.43a1.91,1.91,0,0,1,.58,1.4,1.91,1.91,0,0,1-.58,1.4L9.25,21ZM18.45,9,17,7.55Zm-12,3A5.31,5.31,0,0,0,4.9,8.1,5.31,5.31,0,0,0,1,6.5,5.31,5.31,0,0,0,4.9,4.9,5.31,5.31,0,0,0,6.5,1,5.31,5.31,0,0,0,8.1,4.9,5.31,5.31,0,0,0,12,6.5,5.46,5.46,0,0,0,6.5,12Z\"/>\n",
              "  </svg>\n",
              "    </button>\n",
              "    <script>\n",
              "      (() => {\n",
              "      const buttonEl =\n",
              "        document.querySelector('#id_67d09c66-30eb-4218-9940-27bbf82295c8 button.colab-df-generate');\n",
              "      buttonEl.style.display =\n",
              "        google.colab.kernel.accessAllowed ? 'block' : 'none';\n",
              "\n",
              "      buttonEl.onclick = () => {\n",
              "        google.colab.notebook.generateWithVariable('pop_cate');\n",
              "      }\n",
              "      })();\n",
              "    </script>\n",
              "  </div>\n",
              "\n",
              "    </div>\n",
              "  </div>\n"
            ],
            "application/vnd.google.colaboratory.intrinsic+json": {
              "type": "dataframe",
              "variable_name": "pop_cate",
              "summary": "{\n  \"name\": \"pop_cate\",\n  \"rows\": 5,\n  \"fields\": [\n    {\n      \"column\": \"Nulls\",\n      \"properties\": {\n        \"dtype\": \"number\",\n        \"std\": 0,\n        \"min\": 0,\n        \"max\": 0,\n        \"num_unique_values\": 1,\n        \"samples\": [\n          0\n        ],\n        \"semantic_type\": \"\",\n        \"description\": \"\"\n      }\n    },\n    {\n      \"column\": \"Duplicates\",\n      \"properties\": {\n        \"dtype\": \"number\",\n        \"std\": 0,\n        \"min\": 0,\n        \"max\": 0,\n        \"num_unique_values\": 1,\n        \"samples\": [\n          0\n        ],\n        \"semantic_type\": \"\",\n        \"description\": \"\"\n      }\n    },\n    {\n      \"column\": \"Uniques\",\n      \"properties\": {\n        \"dtype\": \"number\",\n        \"std\": 640,\n        \"min\": 70,\n        \"max\": 1556,\n        \"num_unique_values\": 5,\n        \"samples\": [\n          75\n        ],\n        \"semantic_type\": \"\",\n        \"description\": \"\"\n      }\n    },\n    {\n      \"column\": \"Dtype\",\n      \"properties\": {\n        \"dtype\": \"category\",\n        \"num_unique_values\": 2,\n        \"samples\": [\n          \"object\"\n        ],\n        \"semantic_type\": \"\",\n        \"description\": \"\"\n      }\n    },\n    {\n      \"column\": \"Sample data\",\n      \"properties\": {\n        \"dtype\": \"string\",\n        \"num_unique_values\": 5,\n        \"samples\": [\n          \"8\"\n        ],\n        \"semantic_type\": \"\",\n        \"description\": \"\"\n      }\n    }\n  ]\n}"
            }
          },
          "metadata": {},
          "execution_count": 9
        }
      ]
    },
    {
      "cell_type": "code",
      "source": [
        "# CONVET OBJECT STRING NUMBERS TO INTS\n",
        "\n",
        "# Convert Streams to int\n",
        "stream = train['Streams']\n",
        "train['StreamINT'] = stream.str.replace(\",\", \"\", regex=False)\n",
        "train['StreamINT'] = train['StreamINT'].astype(int)\n",
        "\n",
        "train['StreamINT'].dtypes"
      ],
      "metadata": {
        "colab": {
          "base_uri": "https://localhost:8080/"
        },
        "id": "ilEo2Sei74gW",
        "outputId": "36c47590-3e5f-4ee3-9497-86c44560242f"
      },
      "execution_count": null,
      "outputs": [
        {
          "output_type": "execute_result",
          "data": {
            "text/plain": [
              "dtype('int64')"
            ]
          },
          "metadata": {},
          "execution_count": 10
        }
      ]
    },
    {
      "cell_type": "code",
      "source": [
        "train['StreamINT'].describe()"
      ],
      "metadata": {
        "colab": {
          "base_uri": "https://localhost:8080/",
          "height": 335
        },
        "id": "Oho6tMjfHIIx",
        "outputId": "7b8ef080-7303-437e-ccae-c957bc72758f"
      },
      "execution_count": null,
      "outputs": [
        {
          "output_type": "execute_result",
          "data": {
            "text/plain": [
              "count    1.556000e+03\n",
              "mean     6.340219e+06\n",
              "std      3.369479e+06\n",
              "min      4.176083e+06\n",
              "25%      4.915322e+06\n",
              "50%      5.275748e+06\n",
              "75%      6.455044e+06\n",
              "max      4.863345e+07\n",
              "Name: StreamINT, dtype: float64"
            ],
            "text/html": [
              "<div>\n",
              "<style scoped>\n",
              "    .dataframe tbody tr th:only-of-type {\n",
              "        vertical-align: middle;\n",
              "    }\n",
              "\n",
              "    .dataframe tbody tr th {\n",
              "        vertical-align: top;\n",
              "    }\n",
              "\n",
              "    .dataframe thead th {\n",
              "        text-align: right;\n",
              "    }\n",
              "</style>\n",
              "<table border=\"1\" class=\"dataframe\">\n",
              "  <thead>\n",
              "    <tr style=\"text-align: right;\">\n",
              "      <th></th>\n",
              "      <th>StreamINT</th>\n",
              "    </tr>\n",
              "  </thead>\n",
              "  <tbody>\n",
              "    <tr>\n",
              "      <th>count</th>\n",
              "      <td>1.556000e+03</td>\n",
              "    </tr>\n",
              "    <tr>\n",
              "      <th>mean</th>\n",
              "      <td>6.340219e+06</td>\n",
              "    </tr>\n",
              "    <tr>\n",
              "      <th>std</th>\n",
              "      <td>3.369479e+06</td>\n",
              "    </tr>\n",
              "    <tr>\n",
              "      <th>min</th>\n",
              "      <td>4.176083e+06</td>\n",
              "    </tr>\n",
              "    <tr>\n",
              "      <th>25%</th>\n",
              "      <td>4.915322e+06</td>\n",
              "    </tr>\n",
              "    <tr>\n",
              "      <th>50%</th>\n",
              "      <td>5.275748e+06</td>\n",
              "    </tr>\n",
              "    <tr>\n",
              "      <th>75%</th>\n",
              "      <td>6.455044e+06</td>\n",
              "    </tr>\n",
              "    <tr>\n",
              "      <th>max</th>\n",
              "      <td>4.863345e+07</td>\n",
              "    </tr>\n",
              "  </tbody>\n",
              "</table>\n",
              "</div><br><label><b>dtype:</b> float64</label>"
            ]
          },
          "metadata": {},
          "execution_count": 67
        }
      ]
    },
    {
      "cell_type": "markdown",
      "source": [
        "How skewed is the streams data and how would we normalize that??"
      ],
      "metadata": {
        "id": "ENAx_ShyaMH0"
      }
    },
    {
      "cell_type": "code",
      "source": [
        "pop_columns_updated = ['StreamINT']\n",
        "for i in pop_columns_updated:\n",
        "  train[i].hist(bins = 20)\n",
        "  plt.title(i)\n",
        "  plt.show()"
      ],
      "metadata": {
        "colab": {
          "base_uri": "https://localhost:8080/",
          "height": 470
        },
        "id": "XQTvxO0w5ZRs",
        "outputId": "e72833f0-6e88-46db-995c-58fdccf5f069"
      },
      "execution_count": null,
      "outputs": [
        {
          "output_type": "display_data",
          "data": {
            "text/plain": [
              "<Figure size 640x480 with 1 Axes>"
            ],
            "image/png": "[encoded data removed]"
          },
          "metadata": {}
        }
      ]
    },
    {
      "cell_type": "code",
      "source": [
        "#First peek into data\n",
        "import pandas as pd\n",
        "def IDA(df, target,null_upper_lim, null_lower_lim):\n",
        "  ''' This function returns the following information after inputting the data frame and identifying the target column where df must be a data frame and target must be a string name of column\n",
        "null_upper_lim in decimal percent (0.4 = 40%) defines the threshhold of null data in feature in which more than will suggest to delete the column (think of better wording later)\n",
        "null_lower_lim in decimal percent (0.02 = 2%) defines the threshhold of null data in a fueature in which less than it will suggest columns to delete rows in it that has nulls\n",
        "\n",
        "Returns dict_keys(['DF rows', 'DF Columns', 'Total Nulls', 'Duplicate rows', 'meta_df', 'Target Name', 'Target count', 'Target Nulls', 'Target type', 'Drop columns', 'Drop rows'])\n",
        "'''\n",
        "\n",
        "\n",
        "#Check dataframe for size, shape, nulls and duplicates\n",
        "  rows, columns = df.shape\n",
        "  df_nulls = df.isnull().sum().sum()\n",
        "  duplicates = df.duplicated().sum()\n",
        "  meta_dict = {'DF rows' : rows, 'DF Columns' : columns, 'Total Nulls': df_nulls, 'Duplicate rows':duplicates}\n",
        "  # print('--- Features Type, Uniques and Null Counts ---')\n",
        "  meta_dict['meta_df'] = pd.concat([df.dtypes, df.nunique(), df.isnull().sum()], keys = ['Dtype', 'Uniques','Null Sum'], axis = 1)\n",
        "\n",
        "# # Check target data\n",
        "  target_nulls = df[target].isnull().sum()\n",
        "  target_count = df[target].count()\n",
        "  target_type = type(df[target][1])\n",
        "  meta_dict.update([('Target Name',target),('Target count', target_count),('Target Nulls',target_nulls), ('Target type',target_type)])\n",
        "\n",
        "  # print('--- Target Describe and Histogram ---')\n",
        "  # print(df[target].describe().transpose())\n",
        "  # target_plt = plt.hist(df[target], bins=20, label = target)\n",
        "  # plt.title(target)\n",
        "  # meta_dict['Target plt'] = target_plt\n",
        "\n",
        "#Suggest columns and rows to drop based on nulls\n",
        "  #Find location of nulls missing {null_upper_lim}% of data set\n",
        "  filter_c = df.isnull().sum() > rows * null_upper_lim\n",
        "  df_nulls = df.isnull().sum()\n",
        "  drop_columns = df_nulls[filter_c]\n",
        "  #Categories with only a few nulls ({null_lower_lim} % mising threshhold)\n",
        "  filter_r = (df.isnull().sum() > 0) & (df.isnull().sum() < rows * null_lower_lim)\n",
        "  drop_rows = df_nulls[filter_r]\n",
        "  meta_dict.update([('Drop columns',drop_columns),('Drop rows',drop_rows)])\n",
        "  return(meta_dict)"
      ],
      "metadata": {
        "id": "0oFzwYe3yp9f"
      },
      "execution_count": null,
      "outputs": []
    },
    {
      "cell_type": "code",
      "source": [
        "target = 'StreamINT'\n",
        "meta_dict = IDA(train, target, 0.4,0.02)\n",
        "meta_dict"
      ],
      "metadata": {
        "id": "MwdYtAnl6l1b",
        "colab": {
          "base_uri": "https://localhost:8080/"
        },
        "outputId": "49c3b800-ef6f-45b4-aa33-c2963df99bf7"
      },
      "execution_count": null,
      "outputs": [
        {
          "output_type": "execute_result",
          "data": {
            "text/plain": [
              "{'DF rows': 1556,\n",
              " 'DF Columns': 24,\n",
              " 'Total Nulls': 0,\n",
              " 'Duplicate rows': 0,\n",
              " 'meta_df':                             Dtype  Uniques  Null Sum\n",
              " Index                       int64     1556         0\n",
              " Highest Charting Position   int64      200         0\n",
              " Number of Times Charted     int64       75         0\n",
              " Week of Highest Charting   object       83         0\n",
              " Song Name                  object     1556         0\n",
              " Streams                    object     1556         0\n",
              " Artist                     object      716         0\n",
              " Artist Followers           object      600         0\n",
              " Song ID                    object     1517         0\n",
              " Genre                      object      395         0\n",
              " Release Date               object      478         0\n",
              " Weeks Charted              object      775         0\n",
              " Popularity                 object       70         0\n",
              " Danceability               object      530         0\n",
              " Energy                     object      575         0\n",
              " Loudness                   object     1394         0\n",
              " Speechiness                object      772         0\n",
              " Acousticness               object      965         0\n",
              " Liveness                   object      606         0\n",
              " Tempo                      object     1461         0\n",
              " Duration (ms)              object     1486         0\n",
              " Valence                    object      732         0\n",
              " Chord                      object       13         0\n",
              " StreamINT                   int64     1556         0,\n",
              " 'Target Name': 'StreamINT',\n",
              " 'Target count': 1556,\n",
              " 'Target Nulls': 0,\n",
              " 'Target type': numpy.int64,\n",
              " 'Drop columns': Series([], dtype: int64),\n",
              " 'Drop rows': Series([], dtype: int64)}"
            ]
          },
          "metadata": {},
          "execution_count": 14
        }
      ]
    },
    {
      "cell_type": "code",
      "source": [
        "meta_dict.keys()"
      ],
      "metadata": {
        "colab": {
          "base_uri": "https://localhost:8080/"
        },
        "id": "8YkJcQMHzBGi",
        "outputId": "ccffc4d3-fdcd-40ec-f29e-de979b9148b1"
      },
      "execution_count": null,
      "outputs": [
        {
          "output_type": "execute_result",
          "data": {
            "text/plain": [
              "dict_keys(['DF rows', 'DF Columns', 'Total Nulls', 'Duplicate rows', 'meta_df', 'Target Name', 'Target count', 'Target Nulls', 'Target type', 'Drop columns', 'Drop rows'])"
            ]
          },
          "metadata": {},
          "execution_count": 15
        }
      ]
    },
    {
      "cell_type": "code",
      "source": [
        "meta_dict['DF Columns']"
      ],
      "metadata": {
        "colab": {
          "base_uri": "https://localhost:8080/"
        },
        "id": "kw1ueDcf3xzM",
        "outputId": "0bf97293-92aa-4212-bfcb-38f1b9465cf4"
      },
      "execution_count": null,
      "outputs": [
        {
          "output_type": "execute_result",
          "data": {
            "text/plain": [
              "24"
            ]
          },
          "metadata": {},
          "execution_count": 16
        }
      ]
    },
    {
      "cell_type": "markdown",
      "source": [
        "---\n",
        "---\n",
        "## Data Cleaning\n"
      ],
      "metadata": {
        "id": "kvTak8Ka2db2"
      }
    },
    {
      "cell_type": "markdown",
      "source": [
        "###Guiding Questions\n",
        "- if supervised, what data type is your target?  What does that suggest for the type of ML process you will use?\n",
        "- what is the distribution of values for your target?\n",
        "- how can/did you discover which fields are categorical?\n",
        "- how can/did you discover which fields are numerical?\n",
        "- for each field, what is the distribution?\n",
        "- how can/did you discover the relationship between any two variables?\n",
        "\n",
        "\n"
      ],
      "metadata": {
        "id": "Dl6iPHVh4Umb"
      }
    },
    {
      "cell_type": "markdown",
      "source": [
        "Suggest columns to drop"
      ],
      "metadata": {
        "id": "fPZFPVUCiHfd"
      }
    },
    {
      "cell_type": "code",
      "source": [
        "train.dtypes\n",
        "drop_cols = [\n",
        "    'Index', 'Streams',\n",
        "    'Highest Charting Position', 'Number of Times Charted', 'Week of Highest Charting', 'Artist Followers', 'Weeks Charted', 'Popularity']\n",
        "drop_cols"
      ],
      "metadata": {
        "id": "OIkNshTziREG",
        "colab": {
          "base_uri": "https://localhost:8080/"
        },
        "outputId": "eb22af9e-bed5-44b1-cd45-2c861d320df6"
      },
      "execution_count": null,
      "outputs": [
        {
          "output_type": "execute_result",
          "data": {
            "text/plain": [
              "['Index',\n",
              " 'Streams',\n",
              " 'Highest Charting Position',\n",
              " 'Number of Times Charted',\n",
              " 'Week of Highest Charting',\n",
              " 'Artist Followers',\n",
              " 'Weeks Charted',\n",
              " 'Popularity']"
            ]
          },
          "metadata": {},
          "execution_count": 74
        }
      ]
    },
    {
      "cell_type": "markdown",
      "source": [
        "Make a copy of data frame"
      ],
      "metadata": {
        "id": "b6oTc1tpVXaE"
      }
    },
    {
      "cell_type": "code",
      "source": [
        "tidy_train = train.copy()\n",
        "tidy_train_bak = tidy_train.copy()\n",
        "tidy_train.head(n=1)"
      ],
      "metadata": {
        "id": "0u111c7BUcqv",
        "colab": {
          "base_uri": "https://localhost:8080/",
          "height": 162
        },
        "collapsed": true,
        "outputId": "619aa835-e414-4838-c2e6-c4855b9deb6c"
      },
      "execution_count": null,
      "outputs": [
        {
          "output_type": "execute_result",
          "data": {
            "text/plain": [
              "   Index  Highest Charting Position  Number of Times Charted  \\\n",
              "0      1                          1                        8   \n",
              "\n",
              "  Week of Highest Charting Song Name     Streams    Artist Artist Followers  \\\n",
              "0   2021-07-23--2021-07-30   Beggin'  48,633,449  Måneskin          3377762   \n",
              "\n",
              "                  Song ID                                   Genre  ... Energy  \\\n",
              "0  3Wrjm47oTz2sjIgck11l5e  ['indie rock italiano', 'italian pop']  ...    0.8   \n",
              "\n",
              "  Loudness Speechiness Acousticness Liveness    Tempo Duration (ms) Valence  \\\n",
              "0   -4.808      0.0504        0.127    0.359  134.002        211560   0.589   \n",
              "\n",
              "  Chord StreamINT  \n",
              "0     B  48633449  \n",
              "\n",
              "[1 rows x 24 columns]"
            ],
            "text/html": [
              "\n",
              "  <div id=\"df-b6d84bbc-116c-4b0b-aeec-027c783269e5\" class=\"colab-df-container\">\n",
              "    <div>\n",
              "<style scoped>\n",
              "    .dataframe tbody tr th:only-of-type {\n",
              "        vertical-align: middle;\n",
              "    }\n",
              "\n",
              "    .dataframe tbody tr th {\n",
              "        vertical-align: top;\n",
              "    }\n",
              "\n",
              "    .dataframe thead th {\n",
              "        text-align: right;\n",
              "    }\n",
              "</style>\n",
              "<table border=\"1\" class=\"dataframe\">\n",
              "  <thead>\n",
              "    <tr style=\"text-align: right;\">\n",
              "      <th></th>\n",
              "      <th>Index</th>\n",
              "      <th>Highest Charting Position</th>\n",
              "      <th>Number of Times Charted</th>\n",
              "      <th>Week of Highest Charting</th>\n",
              "      <th>Song Name</th>\n",
              "      <th>Streams</th>\n",
              "      <th>Artist</th>\n",
              "      <th>Artist Followers</th>\n",
              "      <th>Song ID</th>\n",
              "      <th>Genre</th>\n",
              "      <th>...</th>\n",
              "      <th>Energy</th>\n",
              "      <th>Loudness</th>\n",
              "      <th>Speechiness</th>\n",
              "      <th>Acousticness</th>\n",
              "      <th>Liveness</th>\n",
              "      <th>Tempo</th>\n",
              "      <th>Duration (ms)</th>\n",
              "      <th>Valence</th>\n",
              "      <th>Chord</th>\n",
              "      <th>StreamINT</th>\n",
              "    </tr>\n",
              "  </thead>\n",
              "  <tbody>\n",
              "    <tr>\n",
              "      <th>0</th>\n",
              "      <td>1</td>\n",
              "      <td>1</td>\n",
              "      <td>8</td>\n",
              "      <td>2021-07-23--2021-07-30</td>\n",
              "      <td>Beggin'</td>\n",
              "      <td>48,633,449</td>\n",
              "      <td>Måneskin</td>\n",
              "      <td>3377762</td>\n",
              "      <td>3Wrjm47oTz2sjIgck11l5e</td>\n",
              "      <td>['indie rock italiano', 'italian pop']</td>\n",
              "      <td>...</td>\n",
              "      <td>0.8</td>\n",
              "      <td>-4.808</td>\n",
              "      <td>0.0504</td>\n",
              "      <td>0.127</td>\n",
              "      <td>0.359</td>\n",
              "      <td>134.002</td>\n",
              "      <td>211560</td>\n",
              "      <td>0.589</td>\n",
              "      <td>B</td>\n",
              "      <td>48633449</td>\n",
              "    </tr>\n",
              "  </tbody>\n",
              "</table>\n",
              "<p>1 rows × 24 columns</p>\n",
              "</div>\n",
              "    <div class=\"colab-df-buttons\">\n",
              "\n",
              "  <div class=\"colab-df-container\">\n",
              "    <button class=\"colab-df-convert\" onclick=\"convertToInteractive('df-b6d84bbc-116c-4b0b-aeec-027c783269e5')\"\n",
              "            title=\"Convert this dataframe to an interactive table.\"\n",
              "            style=\"display:none;\">\n",
              "\n",
              "  <svg xmlns=\"http://www.w3.org/2000/svg\" height=\"24px\" viewBox=\"0 -960 960 960\">\n",
              "    <path d=\"M120-120v-720h720v720H120Zm60-500h600v-160H180v160Zm220 220h160v-160H400v160Zm0 220h160v-160H400v160ZM180-400h160v-160H180v160Zm440 0h160v-160H620v160ZM180-180h160v-160H180v160Zm440 0h160v-160H620v160Z\"/>\n",
              "  </svg>\n",
              "    </button>\n",
              "\n",
              "  <style>\n",
              "    .colab-df-container {\n",
              "      display:flex;\n",
              "      gap: 12px;\n",
              "    }\n",
              "\n",
              "    .colab-df-convert {\n",
              "      background-color: #E8F0FE;\n",
              "      border: none;\n",
              "      border-radius: 50%;\n",
              "      cursor: pointer;\n",
              "      display: none;\n",
              "      fill: #1967D2;\n",
              "      height: 32px;\n",
              "      padding: 0 0 0 0;\n",
              "      width: 32px;\n",
              "    }\n",
              "\n",
              "    .colab-df-convert:hover {\n",
              "      background-color: #E2EBFA;\n",
              "      box-shadow: 0px 1px 2px rgba(60, 64, 67, 0.3), 0px 1px 3px 1px rgba(60, 64, 67, 0.15);\n",
              "      fill: #174EA6;\n",
              "    }\n",
              "\n",
              "    .colab-df-buttons div {\n",
              "      margin-bottom: 4px;\n",
              "    }\n",
              "\n",
              "    [theme=dark] .colab-df-convert {\n",
              "      background-color: #3B4455;\n",
              "      fill: #D2E3FC;\n",
              "    }\n",
              "\n",
              "    [theme=dark] .colab-df-convert:hover {\n",
              "      background-color: #434B5C;\n",
              "      box-shadow: 0px 1px 3px 1px rgba(0, 0, 0, 0.15);\n",
              "      filter: drop-shadow(0px 1px 2px rgba(0, 0, 0, 0.3));\n",
              "      fill: #FFFFFF;\n",
              "    }\n",
              "  </style>\n",
              "\n",
              "    <script>\n",
              "      const buttonEl =\n",
              "        document.querySelector('#df-b6d84bbc-116c-4b0b-aeec-027c783269e5 button.colab-df-convert');\n",
              "      buttonEl.style.display =\n",
              "        google.colab.kernel.accessAllowed ? 'block' : 'none';\n",
              "\n",
              "      async function convertToInteractive(key) {\n",
              "        const element = document.querySelector('#df-b6d84bbc-116c-4b0b-aeec-027c783269e5');\n",
              "        const dataTable =\n",
              "          await google.colab.kernel.invokeFunction('convertToInteractive',\n",
              "                                                    [key], {});\n",
              "        if (!dataTable) return;\n",
              "\n",
              "        const docLinkHtml = 'Like what you see? Visit the ' +\n",
              "          '<a target=\"_blank\" href=https://colab.research.google.com/notebooks/data_table.ipynb>data table notebook</a>'\n",
              "          + ' to learn more about interactive tables.';\n",
              "        element.innerHTML = '';\n",
              "        dataTable['output_type'] = 'display_data';\n",
              "        await google.colab.output.renderOutput(dataTable, element);\n",
              "        const docLink = document.createElement('div');\n",
              "        docLink.innerHTML = docLinkHtml;\n",
              "        element.appendChild(docLink);\n",
              "      }\n",
              "    </script>\n",
              "  </div>\n",
              "\n",
              "\n",
              "    </div>\n",
              "  </div>\n"
            ],
            "application/vnd.google.colaboratory.intrinsic+json": {
              "type": "dataframe",
              "variable_name": "tidy_train"
            }
          },
          "metadata": {},
          "execution_count": 75
        }
      ]
    },
    {
      "cell_type": "markdown",
      "source": [
        "Drop columns or rows"
      ],
      "metadata": {
        "id": "Jm3JQxqmgMLV"
      }
    },
    {
      "cell_type": "code",
      "source": [
        "tidy_train.drop(drop_cols,axis = 'columns', inplace = True)"
      ],
      "metadata": {
        "id": "nr-wZjrlgMpt"
      },
      "execution_count": null,
      "outputs": []
    },
    {
      "cell_type": "code",
      "source": [
        "tidy_train.columns"
      ],
      "metadata": {
        "id": "IFkrh2kQ505G",
        "colab": {
          "base_uri": "https://localhost:8080/"
        },
        "outputId": "807f2306-df5c-4aef-ac10-ce78fd983b36"
      },
      "execution_count": null,
      "outputs": [
        {
          "output_type": "execute_result",
          "data": {
            "text/plain": [
              "Index(['Song Name', 'Artist', 'Song ID', 'Genre', 'Release Date',\n",
              "       'Danceability', 'Energy', 'Loudness', 'Speechiness', 'Acousticness',\n",
              "       'Liveness', 'Tempo', 'Duration (ms)', 'Valence', 'Chord', 'StreamINT'],\n",
              "      dtype='object')"
            ]
          },
          "metadata": {},
          "execution_count": 77
        }
      ]
    },
    {
      "cell_type": "code",
      "source": [
        "tidy_train['Energy'].value_counts() #Shows 11 blanks in Energy\n",
        "drop_rows = tidy_train[tidy_train['Energy'].str.isspace()]\n",
        "drop_rows.index"
      ],
      "metadata": {
        "colab": {
          "base_uri": "https://localhost:8080/"
        },
        "id": "Wm2EOmOQGUZZ",
        "outputId": "d5a05177-bcd3-41a4-f461-65cdef853b12"
      },
      "execution_count": null,
      "outputs": [
        {
          "output_type": "execute_result",
          "data": {
            "text/plain": [
              "Index([35, 163, 464, 530, 636, 654, 750, 784, 876, 1140, 1538], dtype='int64')"
            ]
          },
          "metadata": {},
          "execution_count": 78
        }
      ]
    },
    {
      "cell_type": "code",
      "source": [
        "tidy_train.drop(drop_rows.index, axis = 0, inplace= True)\n",
        "tidy_train.shape"
      ],
      "metadata": {
        "colab": {
          "base_uri": "https://localhost:8080/"
        },
        "id": "-q9n0B1UuAVp",
        "outputId": "45cb3553-5e41-49dd-87d2-9b8e0e5c9e45"
      },
      "execution_count": null,
      "outputs": [
        {
          "output_type": "execute_result",
          "data": {
            "text/plain": [
              "(1545, 16)"
            ]
          },
          "metadata": {},
          "execution_count": 79
        }
      ]
    },
    {
      "cell_type": "code",
      "source": [
        "conv_dict = {\n",
        "    int : ['Duration (ms)'],\n",
        "    float : ['Danceability', 'Energy',\n",
        "             'Loudness', 'Speechiness',\n",
        "             'Acousticness','Liveness',\n",
        "             'Tempo','Valence'],\n",
        "    str : ['Song Name', 'Artist',\n",
        "           'Song ID', 'Chord' ],\n",
        "    # list : ['Genre']\n",
        "}"
      ],
      "metadata": {
        "id": "SOncuw77BVU7"
      },
      "execution_count": null,
      "outputs": []
    },
    {
      "cell_type": "code",
      "source": [
        "convert_train= pd.DataFrame()\n",
        "for k in conv_dict:\n",
        "  for i in conv_dict[k]:\n",
        "    convert_train[i]=tidy_train[i].astype(dtype = k)\n",
        "convert_train.dtypes"
      ],
      "metadata": {
        "colab": {
          "base_uri": "https://localhost:8080/",
          "height": 460
        },
        "collapsed": true,
        "id": "aChNh_HcsE5f",
        "outputId": "31a75f71-fe66-4246-c00a-fd0cf90359ab"
      },
      "execution_count": null,
      "outputs": [
        {
          "output_type": "execute_result",
          "data": {
            "text/plain": [
              "Duration (ms)      int64\n",
              "Danceability     float64\n",
              "Energy           float64\n",
              "Loudness         float64\n",
              "Speechiness      float64\n",
              "Acousticness     float64\n",
              "Liveness         float64\n",
              "Tempo            float64\n",
              "Song Name         object\n",
              "Artist            object\n",
              "Song ID           object\n",
              "Chord             object\n",
              "dtype: object"
            ],
            "text/html": [
              "<div>\n",
              "<style scoped>\n",
              "    .dataframe tbody tr th:only-of-type {\n",
              "        vertical-align: middle;\n",
              "    }\n",
              "\n",
              "    .dataframe tbody tr th {\n",
              "        vertical-align: top;\n",
              "    }\n",
              "\n",
              "    .dataframe thead th {\n",
              "        text-align: right;\n",
              "    }\n",
              "</style>\n",
              "<table border=\"1\" class=\"dataframe\">\n",
              "  <thead>\n",
              "    <tr style=\"text-align: right;\">\n",
              "      <th></th>\n",
              "      <th>0</th>\n",
              "    </tr>\n",
              "  </thead>\n",
              "  <tbody>\n",
              "    <tr>\n",
              "      <th>Duration (ms)</th>\n",
              "      <td>int64</td>\n",
              "    </tr>\n",
              "    <tr>\n",
              "      <th>Danceability</th>\n",
              "      <td>float64</td>\n",
              "    </tr>\n",
              "    <tr>\n",
              "      <th>Energy</th>\n",
              "      <td>float64</td>\n",
              "    </tr>\n",
              "    <tr>\n",
              "      <th>Loudness</th>\n",
              "      <td>float64</td>\n",
              "    </tr>\n",
              "    <tr>\n",
              "      <th>Speechiness</th>\n",
              "      <td>float64</td>\n",
              "    </tr>\n",
              "    <tr>\n",
              "      <th>Acousticness</th>\n",
              "      <td>float64</td>\n",
              "    </tr>\n",
              "    <tr>\n",
              "      <th>Liveness</th>\n",
              "      <td>float64</td>\n",
              "    </tr>\n",
              "    <tr>\n",
              "      <th>Tempo</th>\n",
              "      <td>float64</td>\n",
              "    </tr>\n",
              "    <tr>\n",
              "      <th>Song Name</th>\n",
              "      <td>object</td>\n",
              "    </tr>\n",
              "    <tr>\n",
              "      <th>Artist</th>\n",
              "      <td>object</td>\n",
              "    </tr>\n",
              "    <tr>\n",
              "      <th>Song ID</th>\n",
              "      <td>object</td>\n",
              "    </tr>\n",
              "    <tr>\n",
              "      <th>Chord</th>\n",
              "      <td>object</td>\n",
              "    </tr>\n",
              "  </tbody>\n",
              "</table>\n",
              "</div><br><label><b>dtype:</b> object</label>"
            ]
          },
          "metadata": {},
          "execution_count": 81
        }
      ]
    },
    {
      "cell_type": "code",
      "source": [
        "type(tidy_train['Song Name'][1])"
      ],
      "metadata": {
        "colab": {
          "base_uri": "https://localhost:8080/"
        },
        "id": "PxB1j2APElzn",
        "outputId": "4688e9de-9ee1-4b35-a3ab-82f70c9736ca"
      },
      "execution_count": null,
      "outputs": [
        {
          "output_type": "execute_result",
          "data": {
            "text/plain": [
              "str"
            ]
          },
          "metadata": {},
          "execution_count": 82
        }
      ]
    },
    {
      "cell_type": "code",
      "source": [
        " convert_train['Streams']=tidy_train['StreamINT']\n",
        " convert_train.dtypes"
      ],
      "metadata": {
        "colab": {
          "base_uri": "https://localhost:8080/",
          "height": 492
        },
        "id": "SrlmTnuSzYwo",
        "outputId": "3677834f-57dc-441c-81f0-17db62448bed"
      },
      "execution_count": null,
      "outputs": [
        {
          "output_type": "execute_result",
          "data": {
            "text/plain": [
              "Duration (ms)      int64\n",
              "Danceability     float64\n",
              "Energy           float64\n",
              "Loudness         float64\n",
              "Speechiness      float64\n",
              "Acousticness     float64\n",
              "Liveness         float64\n",
              "Tempo            float64\n",
              "Song Name         object\n",
              "Artist            object\n",
              "Song ID           object\n",
              "Chord             object\n",
              "Streams            int64\n",
              "dtype: object"
            ],
            "text/html": [
              "<div>\n",
              "<style scoped>\n",
              "    .dataframe tbody tr th:only-of-type {\n",
              "        vertical-align: middle;\n",
              "    }\n",
              "\n",
              "    .dataframe tbody tr th {\n",
              "        vertical-align: top;\n",
              "    }\n",
              "\n",
              "    .dataframe thead th {\n",
              "        text-align: right;\n",
              "    }\n",
              "</style>\n",
              "<table border=\"1\" class=\"dataframe\">\n",
              "  <thead>\n",
              "    <tr style=\"text-align: right;\">\n",
              "      <th></th>\n",
              "      <th>0</th>\n",
              "    </tr>\n",
              "  </thead>\n",
              "  <tbody>\n",
              "    <tr>\n",
              "      <th>Duration (ms)</th>\n",
              "      <td>int64</td>\n",
              "    </tr>\n",
              "    <tr>\n",
              "      <th>Danceability</th>\n",
              "      <td>float64</td>\n",
              "    </tr>\n",
              "    <tr>\n",
              "      <th>Energy</th>\n",
              "      <td>float64</td>\n",
              "    </tr>\n",
              "    <tr>\n",
              "      <th>Loudness</th>\n",
              "      <td>float64</td>\n",
              "    </tr>\n",
              "    <tr>\n",
              "      <th>Speechiness</th>\n",
              "      <td>float64</td>\n",
              "    </tr>\n",
              "    <tr>\n",
              "      <th>Acousticness</th>\n",
              "      <td>float64</td>\n",
              "    </tr>\n",
              "    <tr>\n",
              "      <th>Liveness</th>\n",
              "      <td>float64</td>\n",
              "    </tr>\n",
              "    <tr>\n",
              "      <th>Tempo</th>\n",
              "      <td>float64</td>\n",
              "    </tr>\n",
              "    <tr>\n",
              "      <th>Song Name</th>\n",
              "      <td>object</td>\n",
              "    </tr>\n",
              "    <tr>\n",
              "      <th>Artist</th>\n",
              "      <td>object</td>\n",
              "    </tr>\n",
              "    <tr>\n",
              "      <th>Song ID</th>\n",
              "      <td>object</td>\n",
              "    </tr>\n",
              "    <tr>\n",
              "      <th>Chord</th>\n",
              "      <td>object</td>\n",
              "    </tr>\n",
              "    <tr>\n",
              "      <th>Streams</th>\n",
              "      <td>int64</td>\n",
              "    </tr>\n",
              "  </tbody>\n",
              "</table>\n",
              "</div><br><label><b>dtype:</b> object</label>"
            ]
          },
          "metadata": {},
          "execution_count": 83
        }
      ]
    },
    {
      "cell_type": "markdown",
      "source": [
        "Histograms of all variables\n",
        "\n",
        "Checking the normal distribution of each variable?"
      ],
      "metadata": {
        "id": "q9gzniCwLG-q"
      }
    },
    {
      "cell_type": "code",
      "source": [
        "fig, axs = plt.subplots(nrows = 3, ncols = 4, figsize = (20,20))\n",
        "colors = ['orange', 'gold', 'teal','purple']\n",
        "\n",
        "n = 0\n",
        "for i in range(3):\n",
        "  for j in range(4):\n",
        "    column = convert_train.columns[n]\n",
        "    axs[i,j].hist(convert_train[column], color = colors[n % 4], bins=10)\n",
        "    axs[i,j].set_xlabel(column)\n",
        "    n += 1"
      ],
      "metadata": {
        "colab": {
          "base_uri": "https://localhost:8080/",
          "height": 1000
        },
        "collapsed": true,
        "id": "1W8EQUxQ92Ot",
        "outputId": "7d60f629-8944-487a-a6e1-e590501879b7"
      },
      "execution_count": null,
      "outputs": [
        {
          "output_type": "display_data",
          "data": {
            "text/plain": [
              "<Figure size 2000x2000 with 12 Axes>"
            ],
            "image/png": "[encoded data removed]"
          },
          "metadata": {}
        }
      ]
    },
    {
      "cell_type": "markdown",
      "source": [
        "Correlation heat map/Pair plot if low # of variables\n",
        "\n",
        "Check the correlation values between all predictor columns to ensure there are no substantial correlations between predictors. This is important to support the decision to classify the ‘target’ using Naïve Bayes."
      ],
      "metadata": {
        "id": "j6KxQxUmR5g6"
      }
    },
    {
      "cell_type": "code",
      "source": [
        "simple_train = convert_train.drop(['Artist','Song Name','Chord','Song ID'], axis= 1, inplace = False)\n",
        "keydf=pd.DataFrame()\n",
        "keydf['Song ID']= tidy_train['Song ID']\n",
        "keydf"
      ],
      "metadata": {
        "colab": {
          "base_uri": "https://localhost:8080/",
          "height": 424
        },
        "id": "BXeiwiSaG_yY",
        "outputId": "5afd1084-d74f-41ff-e217-31439da2bd4d"
      },
      "execution_count": null,
      "outputs": [
        {
          "output_type": "execute_result",
          "data": {
            "text/plain": [
              "                     Song ID\n",
              "0     3Wrjm47oTz2sjIgck11l5e\n",
              "1     5HCyWlXZPP0y6Gqq8TgA20\n",
              "2     4ZtFanR9U6ndgddUvNcjcG\n",
              "3     6PQ88X9TkUIAUIZJHW2upE\n",
              "4     27NovPIUIRrOZoCHxABJwK\n",
              "...                      ...\n",
              "1551  2ekn2ttSfGqwhhate0LSR0\n",
              "1552  2PWjKmjyTZeDpmOUa3a5da\n",
              "1553  1rfofaqEpACxVEHIZBJe6W\n",
              "1554  5F8ffc8KWKNawllr5WsW0r\n",
              "1555  3i9UVldZOE0aD0JnyfAZZ0\n",
              "\n",
              "[1545 rows x 1 columns]"
            ],
            "text/html": [
              "\n",
              "  <div id=\"df-3c7c62c5-da34-4332-8bb7-e8038c396d45\" class=\"colab-df-container\">\n",
              "    <div>\n",
              "<style scoped>\n",
              "    .dataframe tbody tr th:only-of-type {\n",
              "        vertical-align: middle;\n",
              "    }\n",
              "\n",
              "    .dataframe tbody tr th {\n",
              "        vertical-align: top;\n",
              "    }\n",
              "\n",
              "    .dataframe thead th {\n",
              "        text-align: right;\n",
              "    }\n",
              "</style>\n",
              "<table border=\"1\" class=\"dataframe\">\n",
              "  <thead>\n",
              "    <tr style=\"text-align: right;\">\n",
              "      <th></th>\n",
              "      <th>Song ID</th>\n",
              "    </tr>\n",
              "  </thead>\n",
              "  <tbody>\n",
              "    <tr>\n",
              "      <th>0</th>\n",
              "      <td>3Wrjm47oTz2sjIgck11l5e</td>\n",
              "    </tr>\n",
              "    <tr>\n",
              "      <th>1</th>\n",
              "      <td>5HCyWlXZPP0y6Gqq8TgA20</td>\n",
              "    </tr>\n",
              "    <tr>\n",
              "      <th>2</th>\n",
              "      <td>4ZtFanR9U6ndgddUvNcjcG</td>\n",
              "    </tr>\n",
              "    <tr>\n",
              "      <th>3</th>\n",
              "      <td>6PQ88X9TkUIAUIZJHW2upE</td>\n",
              "    </tr>\n",
              "    <tr>\n",
              "      <th>4</th>\n",
              "      <td>27NovPIUIRrOZoCHxABJwK</td>\n",
              "    </tr>\n",
              "    <tr>\n",
              "      <th>...</th>\n",
              "      <td>...</td>\n",
              "    </tr>\n",
              "    <tr>\n",
              "      <th>1551</th>\n",
              "      <td>2ekn2ttSfGqwhhate0LSR0</td>\n",
              "    </tr>\n",
              "    <tr>\n",
              "      <th>1552</th>\n",
              "      <td>2PWjKmjyTZeDpmOUa3a5da</td>\n",
              "    </tr>\n",
              "    <tr>\n",
              "      <th>1553</th>\n",
              "      <td>1rfofaqEpACxVEHIZBJe6W</td>\n",
              "    </tr>\n",
              "    <tr>\n",
              "      <th>1554</th>\n",
              "      <td>5F8ffc8KWKNawllr5WsW0r</td>\n",
              "    </tr>\n",
              "    <tr>\n",
              "      <th>1555</th>\n",
              "      <td>3i9UVldZOE0aD0JnyfAZZ0</td>\n",
              "    </tr>\n",
              "  </tbody>\n",
              "</table>\n",
              "<p>1545 rows × 1 columns</p>\n",
              "</div>\n",
              "    <div class=\"colab-df-buttons\">\n",
              "\n",
              "  <div class=\"colab-df-container\">\n",
              "    <button class=\"colab-df-convert\" onclick=\"convertToInteractive('df-3c7c62c5-da34-4332-8bb7-e8038c396d45')\"\n",
              "            title=\"Convert this dataframe to an interactive table.\"\n",
              "            style=\"display:none;\">\n",
              "\n",
              "  <svg xmlns=\"http://www.w3.org/2000/svg\" height=\"24px\" viewBox=\"0 -960 960 960\">\n",
              "    <path d=\"M120-120v-720h720v720H120Zm60-500h600v-160H180v160Zm220 220h160v-160H400v160Zm0 220h160v-160H400v160ZM180-400h160v-160H180v160Zm440 0h160v-160H620v160ZM180-180h160v-160H180v160Zm440 0h160v-160H620v160Z\"/>\n",
              "  </svg>\n",
              "    </button>\n",
              "\n",
              "  <style>\n",
              "    .colab-df-container {\n",
              "      display:flex;\n",
              "      gap: 12px;\n",
              "    }\n",
              "\n",
              "    .colab-df-convert {\n",
              "      background-color: #E8F0FE;\n",
              "      border: none;\n",
              "      border-radius: 50%;\n",
              "      cursor: pointer;\n",
              "      display: none;\n",
              "      fill: #1967D2;\n",
              "      height: 32px;\n",
              "      padding: 0 0 0 0;\n",
              "      width: 32px;\n",
              "    }\n",
              "\n",
              "    .colab-df-convert:hover {\n",
              "      background-color: #E2EBFA;\n",
              "      box-shadow: 0px 1px 2px rgba(60, 64, 67, 0.3), 0px 1px 3px 1px rgba(60, 64, 67, 0.15);\n",
              "      fill: #174EA6;\n",
              "    }\n",
              "\n",
              "    .colab-df-buttons div {\n",
              "      margin-bottom: 4px;\n",
              "    }\n",
              "\n",
              "    [theme=dark] .colab-df-convert {\n",
              "      background-color: #3B4455;\n",
              "      fill: #D2E3FC;\n",
              "    }\n",
              "\n",
              "    [theme=dark] .colab-df-convert:hover {\n",
              "      background-color: #434B5C;\n",
              "      box-shadow: 0px 1px 3px 1px rgba(0, 0, 0, 0.15);\n",
              "      filter: drop-shadow(0px 1px 2px rgba(0, 0, 0, 0.3));\n",
              "      fill: #FFFFFF;\n",
              "    }\n",
              "  </style>\n",
              "\n",
              "    <script>\n",
              "      const buttonEl =\n",
              "        document.querySelector('#df-3c7c62c5-da34-4332-8bb7-e8038c396d45 button.colab-df-convert');\n",
              "      buttonEl.style.display =\n",
              "        google.colab.kernel.accessAllowed ? 'block' : 'none';\n",
              "\n",
              "      async function convertToInteractive(key) {\n",
              "        const element = document.querySelector('#df-3c7c62c5-da34-4332-8bb7-e8038c396d45');\n",
              "        const dataTable =\n",
              "          await google.colab.kernel.invokeFunction('convertToInteractive',\n",
              "                                                    [key], {});\n",
              "        if (!dataTable) return;\n",
              "\n",
              "        const docLinkHtml = 'Like what you see? Visit the ' +\n",
              "          '<a target=\"_blank\" href=https://colab.research.google.com/notebooks/data_table.ipynb>data table notebook</a>'\n",
              "          + ' to learn more about interactive tables.';\n",
              "        element.innerHTML = '';\n",
              "        dataTable['output_type'] = 'display_data';\n",
              "        await google.colab.output.renderOutput(dataTable, element);\n",
              "        const docLink = document.createElement('div');\n",
              "        docLink.innerHTML = docLinkHtml;\n",
              "        element.appendChild(docLink);\n",
              "      }\n",
              "    </script>\n",
              "  </div>\n",
              "\n",
              "\n",
              "<div id=\"df-1e2bdb55-184f-4f94-9dad-ab37a298fbd4\">\n",
              "  <button class=\"colab-df-quickchart\" onclick=\"quickchart('df-1e2bdb55-184f-4f94-9dad-ab37a298fbd4')\"\n",
              "            title=\"Suggest charts\"\n",
              "            style=\"display:none;\">\n",
              "\n",
              "<svg xmlns=\"http://www.w3.org/2000/svg\" height=\"24px\"viewBox=\"0 0 24 24\"\n",
              "     width=\"24px\">\n",
              "    <g>\n",
              "        <path d=\"M19 3H5c-1.1 0-2 .9-2 2v14c0 1.1.9 2 2 2h14c1.1 0 2-.9 2-2V5c0-1.1-.9-2-2-2zM9 17H7v-7h2v7zm4 0h-2V7h2v10zm4 0h-2v-4h2v4z\"/>\n",
              "    </g>\n",
              "</svg>\n",
              "  </button>\n",
              "\n",
              "<style>\n",
              "  .colab-df-quickchart {\n",
              "      --bg-color: #E8F0FE;\n",
              "      --fill-color: #1967D2;\n",
              "      --hover-bg-color: #E2EBFA;\n",
              "      --hover-fill-color: #174EA6;\n",
              "      --disabled-fill-color: #AAA;\n",
              "      --disabled-bg-color: #DDD;\n",
              "  }\n",
              "\n",
              "  [theme=dark] .colab-df-quickchart {\n",
              "      --bg-color: #3B4455;\n",
              "      --fill-color: #D2E3FC;\n",
              "      --hover-bg-color: #434B5C;\n",
              "      --hover-fill-color: #FFFFFF;\n",
              "      --disabled-bg-color: #3B4455;\n",
              "      --disabled-fill-color: #666;\n",
              "  }\n",
              "\n",
              "  .colab-df-quickchart {\n",
              "    background-color: var(--bg-color);\n",
              "    border: none;\n",
              "    border-radius: 50%;\n",
              "    cursor: pointer;\n",
              "    display: none;\n",
              "    fill: var(--fill-color);\n",
              "    height: 32px;\n",
              "    padding: 0;\n",
              "    width: 32px;\n",
              "  }\n",
              "\n",
              "  .colab-df-quickchart:hover {\n",
              "    background-color: var(--hover-bg-color);\n",
              "    box-shadow: 0 1px 2px rgba(60, 64, 67, 0.3), 0 1px 3px 1px rgba(60, 64, 67, 0.15);\n",
              "    fill: var(--button-hover-fill-color);\n",
              "  }\n",
              "\n",
              "  .colab-df-quickchart-complete:disabled,\n",
              "  .colab-df-quickchart-complete:disabled:hover {\n",
              "    background-color: var(--disabled-bg-color);\n",
              "    fill: var(--disabled-fill-color);\n",
              "    box-shadow: none;\n",
              "  }\n",
              "\n",
              "  .colab-df-spinner {\n",
              "    border: 2px solid var(--fill-color);\n",
              "    border-color: transparent;\n",
              "    border-bottom-color: var(--fill-color);\n",
              "    animation:\n",
              "      spin 1s steps(1) infinite;\n",
              "  }\n",
              "\n",
              "  @keyframes spin {\n",
              "    0% {\n",
              "      border-color: transparent;\n",
              "      border-bottom-color: var(--fill-color);\n",
              "      border-left-color: var(--fill-color);\n",
              "    }\n",
              "    20% {\n",
              "      border-color: transparent;\n",
              "      border-left-color: var(--fill-color);\n",
              "      border-top-color: var(--fill-color);\n",
              "    }\n",
              "    30% {\n",
              "      border-color: transparent;\n",
              "      border-left-color: var(--fill-color);\n",
              "      border-top-color: var(--fill-color);\n",
              "      border-right-color: var(--fill-color);\n",
              "    }\n",
              "    40% {\n",
              "      border-color: transparent;\n",
              "      border-right-color: var(--fill-color);\n",
              "      border-top-color: var(--fill-color);\n",
              "    }\n",
              "    60% {\n",
              "      border-color: transparent;\n",
              "      border-right-color: var(--fill-color);\n",
              "    }\n",
              "    80% {\n",
              "      border-color: transparent;\n",
              "      border-right-color: var(--fill-color);\n",
              "      border-bottom-color: var(--fill-color);\n",
              "    }\n",
              "    90% {\n",
              "      border-color: transparent;\n",
              "      border-bottom-color: var(--fill-color);\n",
              "    }\n",
              "  }\n",
              "</style>\n",
              "\n",
              "  <script>\n",
              "    async function quickchart(key) {\n",
              "      const quickchartButtonEl =\n",
              "        document.querySelector('#' + key + ' button');\n",
              "      quickchartButtonEl.disabled = true;  // To prevent multiple clicks.\n",
              "      quickchartButtonEl.classList.add('colab-df-spinner');\n",
              "      try {\n",
              "        const charts = await google.colab.kernel.invokeFunction(\n",
              "            'suggestCharts', [key], {});\n",
              "      } catch (error) {\n",
              "        console.error('Error during call to suggestCharts:', error);\n",
              "      }\n",
              "      quickchartButtonEl.classList.remove('colab-df-spinner');\n",
              "      quickchartButtonEl.classList.add('colab-df-quickchart-complete');\n",
              "    }\n",
              "    (() => {\n",
              "      let quickchartButtonEl =\n",
              "        document.querySelector('#df-1e2bdb55-184f-4f94-9dad-ab37a298fbd4 button');\n",
              "      quickchartButtonEl.style.display =\n",
              "        google.colab.kernel.accessAllowed ? 'block' : 'none';\n",
              "    })();\n",
              "  </script>\n",
              "</div>\n",
              "\n",
              "  <div id=\"id_8b8ce3a4-5bad-4444-b2d1-ebf02cab93d0\">\n",
              "    <style>\n",
              "      .colab-df-generate {\n",
              "        background-color: #E8F0FE;\n",
              "        border: none;\n",
              "        border-radius: 50%;\n",
              "        cursor: pointer;\n",
              "        display: none;\n",
              "        fill: #1967D2;\n",
              "        height: 32px;\n",
              "        padding: 0 0 0 0;\n",
              "        width: 32px;\n",
              "      }\n",
              "\n",
              "      .colab-df-generate:hover {\n",
              "        background-color: #E2EBFA;\n",
              "        box-shadow: 0px 1px 2px rgba(60, 64, 67, 0.3), 0px 1px 3px 1px rgba(60, 64, 67, 0.15);\n",
              "        fill: #174EA6;\n",
              "      }\n",
              "\n",
              "      [theme=dark] .colab-df-generate {\n",
              "        background-color: #3B4455;\n",
              "        fill: #D2E3FC;\n",
              "      }\n",
              "\n",
              "      [theme=dark] .colab-df-generate:hover {\n",
              "        background-color: #434B5C;\n",
              "        box-shadow: 0px 1px 3px 1px rgba(0, 0, 0, 0.15);\n",
              "        filter: drop-shadow(0px 1px 2px rgba(0, 0, 0, 0.3));\n",
              "        fill: #FFFFFF;\n",
              "      }\n",
              "    </style>\n",
              "    <button class=\"colab-df-generate\" onclick=\"generateWithVariable('keydf')\"\n",
              "            title=\"Generate code using this dataframe.\"\n",
              "            style=\"display:none;\">\n",
              "\n",
              "  <svg xmlns=\"http://www.w3.org/2000/svg\" height=\"24px\"viewBox=\"0 0 24 24\"\n",
              "       width=\"24px\">\n",
              "    <path d=\"M7,19H8.4L18.45,9,17,7.55,7,17.6ZM5,21V16.75L18.45,3.32a2,2,0,0,1,2.83,0l1.4,1.43a1.91,1.91,0,0,1,.58,1.4,1.91,1.91,0,0,1-.58,1.4L9.25,21ZM18.45,9,17,7.55Zm-12,3A5.31,5.31,0,0,0,4.9,8.1,5.31,5.31,0,0,0,1,6.5,5.31,5.31,0,0,0,4.9,4.9,5.31,5.31,0,0,0,6.5,1,5.31,5.31,0,0,0,8.1,4.9,5.31,5.31,0,0,0,12,6.5,5.46,5.46,0,0,0,6.5,12Z\"/>\n",
              "  </svg>\n",
              "    </button>\n",
              "    <script>\n",
              "      (() => {\n",
              "      const buttonEl =\n",
              "        document.querySelector('#id_8b8ce3a4-5bad-4444-b2d1-ebf02cab93d0 button.colab-df-generate');\n",
              "      buttonEl.style.display =\n",
              "        google.colab.kernel.accessAllowed ? 'block' : 'none';\n",
              "\n",
              "      buttonEl.onclick = () => {\n",
              "        google.colab.notebook.generateWithVariable('keydf');\n",
              "      }\n",
              "      })();\n",
              "    </script>\n",
              "  </div>\n",
              "\n",
              "    </div>\n",
              "  </div>\n"
            ],
            "application/vnd.google.colaboratory.intrinsic+json": {
              "type": "dataframe",
              "variable_name": "keydf",
              "summary": "{\n  \"name\": \"keydf\",\n  \"rows\": 1545,\n  \"fields\": [\n    {\n      \"column\": \"Song ID\",\n      \"properties\": {\n        \"dtype\": \"string\",\n        \"num_unique_values\": 1516,\n        \"samples\": [\n          \"38GBNKZUhfBkk3oNlWzRYd\",\n          \"2vXgyN14LX2zl7JEASw242\",\n          \"7HZoWhGQaKg97OsqG7HLOS\"\n        ],\n        \"semantic_type\": \"\",\n        \"description\": \"\"\n      }\n    }\n  ]\n}"
            }
          },
          "metadata": {},
          "execution_count": 85
        }
      ]
    },
    {
      "cell_type": "code",
      "source": [
        "simple_train.head()"
      ],
      "metadata": {
        "colab": {
          "base_uri": "https://localhost:8080/",
          "height": 206
        },
        "id": "BW8-Kf1dHoR9",
        "outputId": "4d0e06ef-799a-4cfc-f10a-6938ada2f031"
      },
      "execution_count": null,
      "outputs": [
        {
          "output_type": "execute_result",
          "data": {
            "text/plain": [
              "   Duration (ms)  Danceability  Energy  Loudness  Speechiness  Acousticness  \\\n",
              "0         211560         0.714   0.800    -4.808       0.0504        0.1270   \n",
              "1         141806         0.591   0.764    -5.484       0.0483        0.0383   \n",
              "2         178147         0.563   0.664    -5.044       0.1540        0.3350   \n",
              "3         231041         0.808   0.897    -3.712       0.0348        0.0469   \n",
              "4         212000         0.736   0.704    -7.409       0.0615        0.0203   \n",
              "\n",
              "   Liveness    Tempo   Streams  \n",
              "0    0.3590  134.002  48633449  \n",
              "1    0.1030  169.928  47248719  \n",
              "2    0.0849  166.928  40162559  \n",
              "3    0.3640  126.026  37799456  \n",
              "4    0.0501  149.995  33948454  "
            ],
            "text/html": [
              "\n",
              "  <div id=\"df-a4136a77-67b3-427c-bf15-ac62694723b2\" class=\"colab-df-container\">\n",
              "    <div>\n",
              "<style scoped>\n",
              "    .dataframe tbody tr th:only-of-type {\n",
              "        vertical-align: middle;\n",
              "    }\n",
              "\n",
              "    .dataframe tbody tr th {\n",
              "        vertical-align: top;\n",
              "    }\n",
              "\n",
              "    .dataframe thead th {\n",
              "        text-align: right;\n",
              "    }\n",
              "</style>\n",
              "<table border=\"1\" class=\"dataframe\">\n",
              "  <thead>\n",
              "    <tr style=\"text-align: right;\">\n",
              "      <th></th>\n",
              "      <th>Duration (ms)</th>\n",
              "      <th>Danceability</th>\n",
              "      <th>Energy</th>\n",
              "      <th>Loudness</th>\n",
              "      <th>Speechiness</th>\n",
              "      <th>Acousticness</th>\n",
              "      <th>Liveness</th>\n",
              "      <th>Tempo</th>\n",
              "      <th>Streams</th>\n",
              "    </tr>\n",
              "  </thead>\n",
              "  <tbody>\n",
              "    <tr>\n",
              "      <th>0</th>\n",
              "      <td>211560</td>\n",
              "      <td>0.714</td>\n",
              "      <td>0.800</td>\n",
              "      <td>-4.808</td>\n",
              "      <td>0.0504</td>\n",
              "      <td>0.1270</td>\n",
              "      <td>0.3590</td>\n",
              "      <td>134.002</td>\n",
              "      <td>48633449</td>\n",
              "    </tr>\n",
              "    <tr>\n",
              "      <th>1</th>\n",
              "      <td>141806</td>\n",
              "      <td>0.591</td>\n",
              "      <td>0.764</td>\n",
              "      <td>-5.484</td>\n",
              "      <td>0.0483</td>\n",
              "      <td>0.0383</td>\n",
              "      <td>0.1030</td>\n",
              "      <td>169.928</td>\n",
              "      <td>47248719</td>\n",
              "    </tr>\n",
              "    <tr>\n",
              "      <th>2</th>\n",
              "      <td>178147</td>\n",
              "      <td>0.563</td>\n",
              "      <td>0.664</td>\n",
              "      <td>-5.044</td>\n",
              "      <td>0.1540</td>\n",
              "      <td>0.3350</td>\n",
              "      <td>0.0849</td>\n",
              "      <td>166.928</td>\n",
              "      <td>40162559</td>\n",
              "    </tr>\n",
              "    <tr>\n",
              "      <th>3</th>\n",
              "      <td>231041</td>\n",
              "      <td>0.808</td>\n",
              "      <td>0.897</td>\n",
              "      <td>-3.712</td>\n",
              "      <td>0.0348</td>\n",
              "      <td>0.0469</td>\n",
              "      <td>0.3640</td>\n",
              "      <td>126.026</td>\n",
              "      <td>37799456</td>\n",
              "    </tr>\n",
              "    <tr>\n",
              "      <th>4</th>\n",
              "      <td>212000</td>\n",
              "      <td>0.736</td>\n",
              "      <td>0.704</td>\n",
              "      <td>-7.409</td>\n",
              "      <td>0.0615</td>\n",
              "      <td>0.0203</td>\n",
              "      <td>0.0501</td>\n",
              "      <td>149.995</td>\n",
              "      <td>33948454</td>\n",
              "    </tr>\n",
              "  </tbody>\n",
              "</table>\n",
              "</div>\n",
              "    <div class=\"colab-df-buttons\">\n",
              "\n",
              "  <div class=\"colab-df-container\">\n",
              "    <button class=\"colab-df-convert\" onclick=\"convertToInteractive('df-a4136a77-67b3-427c-bf15-ac62694723b2')\"\n",
              "            title=\"Convert this dataframe to an interactive table.\"\n",
              "            style=\"display:none;\">\n",
              "\n",
              "  <svg xmlns=\"http://www.w3.org/2000/svg\" height=\"24px\" viewBox=\"0 -960 960 960\">\n",
              "    <path d=\"M120-120v-720h720v720H120Zm60-500h600v-160H180v160Zm220 220h160v-160H400v160Zm0 220h160v-160H400v160ZM180-400h160v-160H180v160Zm440 0h160v-160H620v160ZM180-180h160v-160H180v160Zm440 0h160v-160H620v160Z\"/>\n",
              "  </svg>\n",
              "    </button>\n",
              "\n",
              "  <style>\n",
              "    .colab-df-container {\n",
              "      display:flex;\n",
              "      gap: 12px;\n",
              "    }\n",
              "\n",
              "    .colab-df-convert {\n",
              "      background-color: #E8F0FE;\n",
              "      border: none;\n",
              "      border-radius: 50%;\n",
              "      cursor: pointer;\n",
              "      display: none;\n",
              "      fill: #1967D2;\n",
              "      height: 32px;\n",
              "      padding: 0 0 0 0;\n",
              "      width: 32px;\n",
              "    }\n",
              "\n",
              "    .colab-df-convert:hover {\n",
              "      background-color: #E2EBFA;\n",
              "      box-shadow: 0px 1px 2px rgba(60, 64, 67, 0.3), 0px 1px 3px 1px rgba(60, 64, 67, 0.15);\n",
              "      fill: #174EA6;\n",
              "    }\n",
              "\n",
              "    .colab-df-buttons div {\n",
              "      margin-bottom: 4px;\n",
              "    }\n",
              "\n",
              "    [theme=dark] .colab-df-convert {\n",
              "      background-color: #3B4455;\n",
              "      fill: #D2E3FC;\n",
              "    }\n",
              "\n",
              "    [theme=dark] .colab-df-convert:hover {\n",
              "      background-color: #434B5C;\n",
              "      box-shadow: 0px 1px 3px 1px rgba(0, 0, 0, 0.15);\n",
              "      filter: drop-shadow(0px 1px 2px rgba(0, 0, 0, 0.3));\n",
              "      fill: #FFFFFF;\n",
              "    }\n",
              "  </style>\n",
              "\n",
              "    <script>\n",
              "      const buttonEl =\n",
              "        document.querySelector('#df-a4136a77-67b3-427c-bf15-ac62694723b2 button.colab-df-convert');\n",
              "      buttonEl.style.display =\n",
              "        google.colab.kernel.accessAllowed ? 'block' : 'none';\n",
              "\n",
              "      async function convertToInteractive(key) {\n",
              "        const element = document.querySelector('#df-a4136a77-67b3-427c-bf15-ac62694723b2');\n",
              "        const dataTable =\n",
              "          await google.colab.kernel.invokeFunction('convertToInteractive',\n",
              "                                                    [key], {});\n",
              "        if (!dataTable) return;\n",
              "\n",
              "        const docLinkHtml = 'Like what you see? Visit the ' +\n",
              "          '<a target=\"_blank\" href=https://colab.research.google.com/notebooks/data_table.ipynb>data table notebook</a>'\n",
              "          + ' to learn more about interactive tables.';\n",
              "        element.innerHTML = '';\n",
              "        dataTable['output_type'] = 'display_data';\n",
              "        await google.colab.output.renderOutput(dataTable, element);\n",
              "        const docLink = document.createElement('div');\n",
              "        docLink.innerHTML = docLinkHtml;\n",
              "        element.appendChild(docLink);\n",
              "      }\n",
              "    </script>\n",
              "  </div>\n",
              "\n",
              "\n",
              "<div id=\"df-4246ac22-c488-40da-bad8-48929cb32480\">\n",
              "  <button class=\"colab-df-quickchart\" onclick=\"quickchart('df-4246ac22-c488-40da-bad8-48929cb32480')\"\n",
              "            title=\"Suggest charts\"\n",
              "            style=\"display:none;\">\n",
              "\n",
              "<svg xmlns=\"http://www.w3.org/2000/svg\" height=\"24px\"viewBox=\"0 0 24 24\"\n",
              "     width=\"24px\">\n",
              "    <g>\n",
              "        <path d=\"M19 3H5c-1.1 0-2 .9-2 2v14c0 1.1.9 2 2 2h14c1.1 0 2-.9 2-2V5c0-1.1-.9-2-2-2zM9 17H7v-7h2v7zm4 0h-2V7h2v10zm4 0h-2v-4h2v4z\"/>\n",
              "    </g>\n",
              "</svg>\n",
              "  </button>\n",
              "\n",
              "<style>\n",
              "  .colab-df-quickchart {\n",
              "      --bg-color: #E8F0FE;\n",
              "      --fill-color: #1967D2;\n",
              "      --hover-bg-color: #E2EBFA;\n",
              "      --hover-fill-color: #174EA6;\n",
              "      --disabled-fill-color: #AAA;\n",
              "      --disabled-bg-color: #DDD;\n",
              "  }\n",
              "\n",
              "  [theme=dark] .colab-df-quickchart {\n",
              "      --bg-color: #3B4455;\n",
              "      --fill-color: #D2E3FC;\n",
              "      --hover-bg-color: #434B5C;\n",
              "      --hover-fill-color: #FFFFFF;\n",
              "      --disabled-bg-color: #3B4455;\n",
              "      --disabled-fill-color: #666;\n",
              "  }\n",
              "\n",
              "  .colab-df-quickchart {\n",
              "    background-color: var(--bg-color);\n",
              "    border: none;\n",
              "    border-radius: 50%;\n",
              "    cursor: pointer;\n",
              "    display: none;\n",
              "    fill: var(--fill-color);\n",
              "    height: 32px;\n",
              "    padding: 0;\n",
              "    width: 32px;\n",
              "  }\n",
              "\n",
              "  .colab-df-quickchart:hover {\n",
              "    background-color: var(--hover-bg-color);\n",
              "    box-shadow: 0 1px 2px rgba(60, 64, 67, 0.3), 0 1px 3px 1px rgba(60, 64, 67, 0.15);\n",
              "    fill: var(--button-hover-fill-color);\n",
              "  }\n",
              "\n",
              "  .colab-df-quickchart-complete:disabled,\n",
              "  .colab-df-quickchart-complete:disabled:hover {\n",
              "    background-color: var(--disabled-bg-color);\n",
              "    fill: var(--disabled-fill-color);\n",
              "    box-shadow: none;\n",
              "  }\n",
              "\n",
              "  .colab-df-spinner {\n",
              "    border: 2px solid var(--fill-color);\n",
              "    border-color: transparent;\n",
              "    border-bottom-color: var(--fill-color);\n",
              "    animation:\n",
              "      spin 1s steps(1) infinite;\n",
              "  }\n",
              "\n",
              "  @keyframes spin {\n",
              "    0% {\n",
              "      border-color: transparent;\n",
              "      border-bottom-color: var(--fill-color);\n",
              "      border-left-color: var(--fill-color);\n",
              "    }\n",
              "    20% {\n",
              "      border-color: transparent;\n",
              "      border-left-color: var(--fill-color);\n",
              "      border-top-color: var(--fill-color);\n",
              "    }\n",
              "    30% {\n",
              "      border-color: transparent;\n",
              "      border-left-color: var(--fill-color);\n",
              "      border-top-color: var(--fill-color);\n",
              "      border-right-color: var(--fill-color);\n",
              "    }\n",
              "    40% {\n",
              "      border-color: transparent;\n",
              "      border-right-color: var(--fill-color);\n",
              "      border-top-color: var(--fill-color);\n",
              "    }\n",
              "    60% {\n",
              "      border-color: transparent;\n",
              "      border-right-color: var(--fill-color);\n",
              "    }\n",
              "    80% {\n",
              "      border-color: transparent;\n",
              "      border-right-color: var(--fill-color);\n",
              "      border-bottom-color: var(--fill-color);\n",
              "    }\n",
              "    90% {\n",
              "      border-color: transparent;\n",
              "      border-bottom-color: var(--fill-color);\n",
              "    }\n",
              "  }\n",
              "</style>\n",
              "\n",
              "  <script>\n",
              "    async function quickchart(key) {\n",
              "      const quickchartButtonEl =\n",
              "        document.querySelector('#' + key + ' button');\n",
              "      quickchartButtonEl.disabled = true;  // To prevent multiple clicks.\n",
              "      quickchartButtonEl.classList.add('colab-df-spinner');\n",
              "      try {\n",
              "        const charts = await google.colab.kernel.invokeFunction(\n",
              "            'suggestCharts', [key], {});\n",
              "      } catch (error) {\n",
              "        console.error('Error during call to suggestCharts:', error);\n",
              "      }\n",
              "      quickchartButtonEl.classList.remove('colab-df-spinner');\n",
              "      quickchartButtonEl.classList.add('colab-df-quickchart-complete');\n",
              "    }\n",
              "    (() => {\n",
              "      let quickchartButtonEl =\n",
              "        document.querySelector('#df-4246ac22-c488-40da-bad8-48929cb32480 button');\n",
              "      quickchartButtonEl.style.display =\n",
              "        google.colab.kernel.accessAllowed ? 'block' : 'none';\n",
              "    })();\n",
              "  </script>\n",
              "</div>\n",
              "\n",
              "    </div>\n",
              "  </div>\n"
            ],
            "application/vnd.google.colaboratory.intrinsic+json": {
              "type": "dataframe",
              "variable_name": "simple_train",
              "summary": "{\n  \"name\": \"simple_train\",\n  \"rows\": 1545,\n  \"fields\": [\n    {\n      \"column\": \"Duration (ms)\",\n      \"properties\": {\n        \"dtype\": \"number\",\n        \"std\": 47148,\n        \"min\": 30133,\n        \"max\": 588139,\n        \"num_unique_values\": 1485,\n        \"samples\": [\n          204280,\n          244237,\n          206221\n        ],\n        \"semantic_type\": \"\",\n        \"description\": \"\"\n      }\n    },\n    {\n      \"column\": \"Danceability\",\n      \"properties\": {\n        \"dtype\": \"number\",\n        \"std\": 0.1424440236022073,\n        \"min\": 0.15,\n        \"max\": 0.98,\n        \"num_unique_values\": 529,\n        \"samples\": [\n          0.358,\n          0.364,\n          0.762\n        ],\n        \"semantic_type\": \"\",\n        \"description\": \"\"\n      }\n    },\n    {\n      \"column\": \"Energy\",\n      \"properties\": {\n        \"dtype\": \"number\",\n        \"std\": 0.16157700047142282,\n        \"min\": 0.054,\n        \"max\": 0.97,\n        \"num_unique_values\": 574,\n        \"samples\": [\n          0.853,\n          0.681,\n          0.783\n        ],\n        \"semantic_type\": \"\",\n        \"description\": \"\"\n      }\n    },\n    {\n      \"column\": \"Loudness\",\n      \"properties\": {\n        \"dtype\": \"number\",\n        \"std\": 2.5092808848472514,\n        \"min\": -25.166,\n        \"max\": 1.509,\n        \"num_unique_values\": 1393,\n        \"samples\": [\n          -7.486,\n          -6.571,\n          -7.621\n        ],\n        \"semantic_type\": \"\",\n        \"description\": \"\"\n      }\n    },\n    {\n      \"column\": \"Speechiness\",\n      \"properties\": {\n        \"dtype\": \"number\",\n        \"std\": 0.11038273491931633,\n        \"min\": 0.0232,\n        \"max\": 0.884,\n        \"num_unique_values\": 771,\n        \"samples\": [\n          0.0906,\n          0.0702,\n          0.483\n        ],\n        \"semantic_type\": \"\",\n        \"description\": \"\"\n      }\n    },\n    {\n      \"column\": \"Acousticness\",\n      \"properties\": {\n        \"dtype\": \"number\",\n        \"std\": 0.25032589525143023,\n        \"min\": 2.55e-05,\n        \"max\": 0.994,\n        \"num_unique_values\": 964,\n        \"samples\": [\n          0.525,\n          0.107,\n          0.1\n        ],\n        \"semantic_type\": \"\",\n        \"description\": \"\"\n      }\n    },\n    {\n      \"column\": \"Liveness\",\n      \"properties\": {\n        \"dtype\": \"number\",\n        \"std\": 0.1440709953378161,\n        \"min\": 0.0197,\n        \"max\": 0.962,\n        \"num_unique_values\": 605,\n        \"samples\": [\n          0.2,\n          0.415,\n          0.0931\n        ],\n        \"semantic_type\": \"\",\n        \"description\": \"\"\n      }\n    },\n    {\n      \"column\": \"Tempo\",\n      \"properties\": {\n        \"dtype\": \"number\",\n        \"std\": 29.591087694699816,\n        \"min\": 46.718,\n        \"max\": 205.272,\n        \"num_unique_values\": 1460,\n        \"samples\": [\n          83.982,\n          139.999,\n          95.466\n        ],\n        \"semantic_type\": \"\",\n        \"description\": \"\"\n      }\n    },\n    {\n      \"column\": \"Streams\",\n      \"properties\": {\n        \"dtype\": \"number\",\n        \"std\": 3375402,\n        \"min\": 4176083,\n        \"max\": 48633449,\n        \"num_unique_values\": 1545,\n        \"samples\": [\n          6159873,\n          5003825,\n          10058303\n        ],\n        \"semantic_type\": \"\",\n        \"description\": \"\"\n      }\n    }\n  ]\n}"
            }
          },
          "metadata": {},
          "execution_count": 86
        }
      ]
    },
    {
      "cell_type": "code",
      "source": [
        "corr = simple_train.corr()\n",
        "corr"
      ],
      "metadata": {
        "id": "beO6C_4lR53k",
        "colab": {
          "base_uri": "https://localhost:8080/",
          "height": 332
        },
        "outputId": "df6db69e-f71b-4189-ca90-6040bf030a1c"
      },
      "execution_count": null,
      "outputs": [
        {
          "output_type": "execute_result",
          "data": {
            "text/plain": [
              "               Duration (ms)  Danceability    Energy  Loudness  Speechiness  \\\n",
              "Duration (ms)       1.000000     -0.101390  0.056624  0.075262    -0.089895   \n",
              "Danceability       -0.101390      1.000000  0.142130  0.234928     0.237394   \n",
              "Energy              0.056624      0.142130  1.000000  0.732616     0.023989   \n",
              "Loudness            0.075262      0.234928  0.732616  1.000000    -0.018823   \n",
              "Speechiness        -0.089895      0.237394  0.023989 -0.018823     1.000000   \n",
              "Acousticness       -0.046010     -0.316798 -0.542399 -0.477431    -0.131436   \n",
              "Liveness            0.019685     -0.114518  0.124693  0.043141     0.072774   \n",
              "Tempo              -0.004671     -0.040219  0.113352  0.104371     0.111255   \n",
              "Streams             0.015964     -0.081291  0.004145 -0.031155    -0.062620   \n",
              "\n",
              "               Acousticness  Liveness     Tempo   Streams  \n",
              "Duration (ms)     -0.046010  0.019685 -0.004671  0.015964  \n",
              "Danceability      -0.316798 -0.114518 -0.040219 -0.081291  \n",
              "Energy            -0.542399  0.124693  0.113352  0.004145  \n",
              "Loudness          -0.477431  0.043141  0.104371 -0.031155  \n",
              "Speechiness       -0.131436  0.072774  0.111255 -0.062620  \n",
              "Acousticness       1.000000 -0.005469 -0.061632  0.034054  \n",
              "Liveness          -0.005469  1.000000 -0.018265  0.042105  \n",
              "Tempo             -0.061632 -0.018265  1.000000  0.053458  \n",
              "Streams            0.034054  0.042105  0.053458  1.000000  "
            ],
            "text/html": [
              "\n",
              "  <div id=\"df-6ef3b344-f06b-45b7-b475-2ed3fe124175\" class=\"colab-df-container\">\n",
              "    <div>\n",
              "<style scoped>\n",
              "    .dataframe tbody tr th:only-of-type {\n",
              "        vertical-align: middle;\n",
              "    }\n",
              "\n",
              "    .dataframe tbody tr th {\n",
              "        vertical-align: top;\n",
              "    }\n",
              "\n",
              "    .dataframe thead th {\n",
              "        text-align: right;\n",
              "    }\n",
              "</style>\n",
              "<table border=\"1\" class=\"dataframe\">\n",
              "  <thead>\n",
              "    <tr style=\"text-align: right;\">\n",
              "      <th></th>\n",
              "      <th>Duration (ms)</th>\n",
              "      <th>Danceability</th>\n",
              "      <th>Energy</th>\n",
              "      <th>Loudness</th>\n",
              "      <th>Speechiness</th>\n",
              "      <th>Acousticness</th>\n",
              "      <th>Liveness</th>\n",
              "      <th>Tempo</th>\n",
              "      <th>Streams</th>\n",
              "    </tr>\n",
              "  </thead>\n",
              "  <tbody>\n",
              "    <tr>\n",
              "      <th>Duration (ms)</th>\n",
              "      <td>1.000000</td>\n",
              "      <td>-0.101390</td>\n",
              "      <td>0.056624</td>\n",
              "      <td>0.075262</td>\n",
              "      <td>-0.089895</td>\n",
              "      <td>-0.046010</td>\n",
              "      <td>0.019685</td>\n",
              "      <td>-0.004671</td>\n",
              "      <td>0.015964</td>\n",
              "    </tr>\n",
              "    <tr>\n",
              "      <th>Danceability</th>\n",
              "      <td>-0.101390</td>\n",
              "      <td>1.000000</td>\n",
              "      <td>0.142130</td>\n",
              "      <td>0.234928</td>\n",
              "      <td>0.237394</td>\n",
              "      <td>-0.316798</td>\n",
              "      <td>-0.114518</td>\n",
              "      <td>-0.040219</td>\n",
              "      <td>-0.081291</td>\n",
              "    </tr>\n",
              "    <tr>\n",
              "      <th>Energy</th>\n",
              "      <td>0.056624</td>\n",
              "      <td>0.142130</td>\n",
              "      <td>1.000000</td>\n",
              "      <td>0.732616</td>\n",
              "      <td>0.023989</td>\n",
              "      <td>-0.542399</td>\n",
              "      <td>0.124693</td>\n",
              "      <td>0.113352</td>\n",
              "      <td>0.004145</td>\n",
              "    </tr>\n",
              "    <tr>\n",
              "      <th>Loudness</th>\n",
              "      <td>0.075262</td>\n",
              "      <td>0.234928</td>\n",
              "      <td>0.732616</td>\n",
              "      <td>1.000000</td>\n",
              "      <td>-0.018823</td>\n",
              "      <td>-0.477431</td>\n",
              "      <td>0.043141</td>\n",
              "      <td>0.104371</td>\n",
              "      <td>-0.031155</td>\n",
              "    </tr>\n",
              "    <tr>\n",
              "      <th>Speechiness</th>\n",
              "      <td>-0.089895</td>\n",
              "      <td>0.237394</td>\n",
              "      <td>0.023989</td>\n",
              "      <td>-0.018823</td>\n",
              "      <td>1.000000</td>\n",
              "      <td>-0.131436</td>\n",
              "      <td>0.072774</td>\n",
              "      <td>0.111255</td>\n",
              "      <td>-0.062620</td>\n",
              "    </tr>\n",
              "    <tr>\n",
              "      <th>Acousticness</th>\n",
              "      <td>-0.046010</td>\n",
              "      <td>-0.316798</td>\n",
              "      <td>-0.542399</td>\n",
              "      <td>-0.477431</td>\n",
              "      <td>-0.131436</td>\n",
              "      <td>1.000000</td>\n",
              "      <td>-0.005469</td>\n",
              "      <td>-0.061632</td>\n",
              "      <td>0.034054</td>\n",
              "    </tr>\n",
              "    <tr>\n",
              "      <th>Liveness</th>\n",
              "      <td>0.019685</td>\n",
              "      <td>-0.114518</td>\n",
              "      <td>0.124693</td>\n",
              "      <td>0.043141</td>\n",
              "      <td>0.072774</td>\n",
              "      <td>-0.005469</td>\n",
              "      <td>1.000000</td>\n",
              "      <td>-0.018265</td>\n",
              "      <td>0.042105</td>\n",
              "    </tr>\n",
              "    <tr>\n",
              "      <th>Tempo</th>\n",
              "      <td>-0.004671</td>\n",
              "      <td>-0.040219</td>\n",
              "      <td>0.113352</td>\n",
              "      <td>0.104371</td>\n",
              "      <td>0.111255</td>\n",
              "      <td>-0.061632</td>\n",
              "      <td>-0.018265</td>\n",
              "      <td>1.000000</td>\n",
              "      <td>0.053458</td>\n",
              "    </tr>\n",
              "    <tr>\n",
              "      <th>Streams</th>\n",
              "      <td>0.015964</td>\n",
              "      <td>-0.081291</td>\n",
              "      <td>0.004145</td>\n",
              "      <td>-0.031155</td>\n",
              "      <td>-0.062620</td>\n",
              "      <td>0.034054</td>\n",
              "      <td>0.042105</td>\n",
              "      <td>0.053458</td>\n",
              "      <td>1.000000</td>\n",
              "    </tr>\n",
              "  </tbody>\n",
              "</table>\n",
              "</div>\n",
              "    <div class=\"colab-df-buttons\">\n",
              "\n",
              "  <div class=\"colab-df-container\">\n",
              "    <button class=\"colab-df-convert\" onclick=\"convertToInteractive('df-6ef3b344-f06b-45b7-b475-2ed3fe124175')\"\n",
              "            title=\"Convert this dataframe to an interactive table.\"\n",
              "            style=\"display:none;\">\n",
              "\n",
              "  <svg xmlns=\"http://www.w3.org/2000/svg\" height=\"24px\" viewBox=\"0 -960 960 960\">\n",
              "    <path d=\"M120-120v-720h720v720H120Zm60-500h600v-160H180v160Zm220 220h160v-160H400v160Zm0 220h160v-160H400v160ZM180-400h160v-160H180v160Zm440 0h160v-160H620v160ZM180-180h160v-160H180v160Zm440 0h160v-160H620v160Z\"/>\n",
              "  </svg>\n",
              "    </button>\n",
              "\n",
              "  <style>\n",
              "    .colab-df-container {\n",
              "      display:flex;\n",
              "      gap: 12px;\n",
              "    }\n",
              "\n",
              "    .colab-df-convert {\n",
              "      background-color: #E8F0FE;\n",
              "      border: none;\n",
              "      border-radius: 50%;\n",
              "      cursor: pointer;\n",
              "      display: none;\n",
              "      fill: #1967D2;\n",
              "      height: 32px;\n",
              "      padding: 0 0 0 0;\n",
              "      width: 32px;\n",
              "    }\n",
              "\n",
              "    .colab-df-convert:hover {\n",
              "      background-color: #E2EBFA;\n",
              "      box-shadow: 0px 1px 2px rgba(60, 64, 67, 0.3), 0px 1px 3px 1px rgba(60, 64, 67, 0.15);\n",
              "      fill: #174EA6;\n",
              "    }\n",
              "\n",
              "    .colab-df-buttons div {\n",
              "      margin-bottom: 4px;\n",
              "    }\n",
              "\n",
              "    [theme=dark] .colab-df-convert {\n",
              "      background-color: #3B4455;\n",
              "      fill: #D2E3FC;\n",
              "    }\n",
              "\n",
              "    [theme=dark] .colab-df-convert:hover {\n",
              "      background-color: #434B5C;\n",
              "      box-shadow: 0px 1px 3px 1px rgba(0, 0, 0, 0.15);\n",
              "      filter: drop-shadow(0px 1px 2px rgba(0, 0, 0, 0.3));\n",
              "      fill: #FFFFFF;\n",
              "    }\n",
              "  </style>\n",
              "\n",
              "    <script>\n",
              "      const buttonEl =\n",
              "        document.querySelector('#df-6ef3b344-f06b-45b7-b475-2ed3fe124175 button.colab-df-convert');\n",
              "      buttonEl.style.display =\n",
              "        google.colab.kernel.accessAllowed ? 'block' : 'none';\n",
              "\n",
              "      async function convertToInteractive(key) {\n",
              "        const element = document.querySelector('#df-6ef3b344-f06b-45b7-b475-2ed3fe124175');\n",
              "        const dataTable =\n",
              "          await google.colab.kernel.invokeFunction('convertToInteractive',\n",
              "                                                    [key], {});\n",
              "        if (!dataTable) return;\n",
              "\n",
              "        const docLinkHtml = 'Like what you see? Visit the ' +\n",
              "          '<a target=\"_blank\" href=https://colab.research.google.com/notebooks/data_table.ipynb>data table notebook</a>'\n",
              "          + ' to learn more about interactive tables.';\n",
              "        element.innerHTML = '';\n",
              "        dataTable['output_type'] = 'display_data';\n",
              "        await google.colab.output.renderOutput(dataTable, element);\n",
              "        const docLink = document.createElement('div');\n",
              "        docLink.innerHTML = docLinkHtml;\n",
              "        element.appendChild(docLink);\n",
              "      }\n",
              "    </script>\n",
              "  </div>\n",
              "\n",
              "\n",
              "<div id=\"df-e6a40e65-5647-45b1-9898-57a51bedb4c5\">\n",
              "  <button class=\"colab-df-quickchart\" onclick=\"quickchart('df-e6a40e65-5647-45b1-9898-57a51bedb4c5')\"\n",
              "            title=\"Suggest charts\"\n",
              "            style=\"display:none;\">\n",
              "\n",
              "<svg xmlns=\"http://www.w3.org/2000/svg\" height=\"24px\"viewBox=\"0 0 24 24\"\n",
              "     width=\"24px\">\n",
              "    <g>\n",
              "        <path d=\"M19 3H5c-1.1 0-2 .9-2 2v14c0 1.1.9 2 2 2h14c1.1 0 2-.9 2-2V5c0-1.1-.9-2-2-2zM9 17H7v-7h2v7zm4 0h-2V7h2v10zm4 0h-2v-4h2v4z\"/>\n",
              "    </g>\n",
              "</svg>\n",
              "  </button>\n",
              "\n",
              "<style>\n",
              "  .colab-df-quickchart {\n",
              "      --bg-color: #E8F0FE;\n",
              "      --fill-color: #1967D2;\n",
              "      --hover-bg-color: #E2EBFA;\n",
              "      --hover-fill-color: #174EA6;\n",
              "      --disabled-fill-color: #AAA;\n",
              "      --disabled-bg-color: #DDD;\n",
              "  }\n",
              "\n",
              "  [theme=dark] .colab-df-quickchart {\n",
              "      --bg-color: #3B4455;\n",
              "      --fill-color: #D2E3FC;\n",
              "      --hover-bg-color: #434B5C;\n",
              "      --hover-fill-color: #FFFFFF;\n",
              "      --disabled-bg-color: #3B4455;\n",
              "      --disabled-fill-color: #666;\n",
              "  }\n",
              "\n",
              "  .colab-df-quickchart {\n",
              "    background-color: var(--bg-color);\n",
              "    border: none;\n",
              "    border-radius: 50%;\n",
              "    cursor: pointer;\n",
              "    display: none;\n",
              "    fill: var(--fill-color);\n",
              "    height: 32px;\n",
              "    padding: 0;\n",
              "    width: 32px;\n",
              "  }\n",
              "\n",
              "  .colab-df-quickchart:hover {\n",
              "    background-color: var(--hover-bg-color);\n",
              "    box-shadow: 0 1px 2px rgba(60, 64, 67, 0.3), 0 1px 3px 1px rgba(60, 64, 67, 0.15);\n",
              "    fill: var(--button-hover-fill-color);\n",
              "  }\n",
              "\n",
              "  .colab-df-quickchart-complete:disabled,\n",
              "  .colab-df-quickchart-complete:disabled:hover {\n",
              "    background-color: var(--disabled-bg-color);\n",
              "    fill: var(--disabled-fill-color);\n",
              "    box-shadow: none;\n",
              "  }\n",
              "\n",
              "  .colab-df-spinner {\n",
              "    border: 2px solid var(--fill-color);\n",
              "    border-color: transparent;\n",
              "    border-bottom-color: var(--fill-color);\n",
              "    animation:\n",
              "      spin 1s steps(1) infinite;\n",
              "  }\n",
              "\n",
              "  @keyframes spin {\n",
              "    0% {\n",
              "      border-color: transparent;\n",
              "      border-bottom-color: var(--fill-color);\n",
              "      border-left-color: var(--fill-color);\n",
              "    }\n",
              "    20% {\n",
              "      border-color: transparent;\n",
              "      border-left-color: var(--fill-color);\n",
              "      border-top-color: var(--fill-color);\n",
              "    }\n",
              "    30% {\n",
              "      border-color: transparent;\n",
              "      border-left-color: var(--fill-color);\n",
              "      border-top-color: var(--fill-color);\n",
              "      border-right-color: var(--fill-color);\n",
              "    }\n",
              "    40% {\n",
              "      border-color: transparent;\n",
              "      border-right-color: var(--fill-color);\n",
              "      border-top-color: var(--fill-color);\n",
              "    }\n",
              "    60% {\n",
              "      border-color: transparent;\n",
              "      border-right-color: var(--fill-color);\n",
              "    }\n",
              "    80% {\n",
              "      border-color: transparent;\n",
              "      border-right-color: var(--fill-color);\n",
              "      border-bottom-color: var(--fill-color);\n",
              "    }\n",
              "    90% {\n",
              "      border-color: transparent;\n",
              "      border-bottom-color: var(--fill-color);\n",
              "    }\n",
              "  }\n",
              "</style>\n",
              "\n",
              "  <script>\n",
              "    async function quickchart(key) {\n",
              "      const quickchartButtonEl =\n",
              "        document.querySelector('#' + key + ' button');\n",
              "      quickchartButtonEl.disabled = true;  // To prevent multiple clicks.\n",
              "      quickchartButtonEl.classList.add('colab-df-spinner');\n",
              "      try {\n",
              "        const charts = await google.colab.kernel.invokeFunction(\n",
              "            'suggestCharts', [key], {});\n",
              "      } catch (error) {\n",
              "        console.error('Error during call to suggestCharts:', error);\n",
              "      }\n",
              "      quickchartButtonEl.classList.remove('colab-df-spinner');\n",
              "      quickchartButtonEl.classList.add('colab-df-quickchart-complete');\n",
              "    }\n",
              "    (() => {\n",
              "      let quickchartButtonEl =\n",
              "        document.querySelector('#df-e6a40e65-5647-45b1-9898-57a51bedb4c5 button');\n",
              "      quickchartButtonEl.style.display =\n",
              "        google.colab.kernel.accessAllowed ? 'block' : 'none';\n",
              "    })();\n",
              "  </script>\n",
              "</div>\n",
              "\n",
              "  <div id=\"id_6633f3c2-a94b-4896-b12d-0657766cf13a\">\n",
              "    <style>\n",
              "      .colab-df-generate {\n",
              "        background-color: #E8F0FE;\n",
              "        border: none;\n",
              "        border-radius: 50%;\n",
              "        cursor: pointer;\n",
              "        display: none;\n",
              "        fill: #1967D2;\n",
              "        height: 32px;\n",
              "        padding: 0 0 0 0;\n",
              "        width: 32px;\n",
              "      }\n",
              "\n",
              "      .colab-df-generate:hover {\n",
              "        background-color: #E2EBFA;\n",
              "        box-shadow: 0px 1px 2px rgba(60, 64, 67, 0.3), 0px 1px 3px 1px rgba(60, 64, 67, 0.15);\n",
              "        fill: #174EA6;\n",
              "      }\n",
              "\n",
              "      [theme=dark] .colab-df-generate {\n",
              "        background-color: #3B4455;\n",
              "        fill: #D2E3FC;\n",
              "      }\n",
              "\n",
              "      [theme=dark] .colab-df-generate:hover {\n",
              "        background-color: #434B5C;\n",
              "        box-shadow: 0px 1px 3px 1px rgba(0, 0, 0, 0.15);\n",
              "        filter: drop-shadow(0px 1px 2px rgba(0, 0, 0, 0.3));\n",
              "        fill: #FFFFFF;\n",
              "      }\n",
              "    </style>\n",
              "    <button class=\"colab-df-generate\" onclick=\"generateWithVariable('corr')\"\n",
              "            title=\"Generate code using this dataframe.\"\n",
              "            style=\"display:none;\">\n",
              "\n",
              "  <svg xmlns=\"http://www.w3.org/2000/svg\" height=\"24px\"viewBox=\"0 0 24 24\"\n",
              "       width=\"24px\">\n",
              "    <path d=\"M7,19H8.4L18.45,9,17,7.55,7,17.6ZM5,21V16.75L18.45,3.32a2,2,0,0,1,2.83,0l1.4,1.43a1.91,1.91,0,0,1,.58,1.4,1.91,1.91,0,0,1-.58,1.4L9.25,21ZM18.45,9,17,7.55Zm-12,3A5.31,5.31,0,0,0,4.9,8.1,5.31,5.31,0,0,0,1,6.5,5.31,5.31,0,0,0,4.9,4.9,5.31,5.31,0,0,0,6.5,1,5.31,5.31,0,0,0,8.1,4.9,5.31,5.31,0,0,0,12,6.5,5.46,5.46,0,0,0,6.5,12Z\"/>\n",
              "  </svg>\n",
              "    </button>\n",
              "    <script>\n",
              "      (() => {\n",
              "      const buttonEl =\n",
              "        document.querySelector('#id_6633f3c2-a94b-4896-b12d-0657766cf13a button.colab-df-generate');\n",
              "      buttonEl.style.display =\n",
              "        google.colab.kernel.accessAllowed ? 'block' : 'none';\n",
              "\n",
              "      buttonEl.onclick = () => {\n",
              "        google.colab.notebook.generateWithVariable('corr');\n",
              "      }\n",
              "      })();\n",
              "    </script>\n",
              "  </div>\n",
              "\n",
              "    </div>\n",
              "  </div>\n"
            ],
            "application/vnd.google.colaboratory.intrinsic+json": {
              "type": "dataframe",
              "variable_name": "corr",
              "summary": "{\n  \"name\": \"corr\",\n  \"rows\": 9,\n  \"fields\": [\n    {\n      \"column\": \"Duration (ms)\",\n      \"properties\": {\n        \"dtype\": \"number\",\n        \"std\": 0.34183814849922944,\n        \"min\": -0.10138991340652778,\n        \"max\": 1.0,\n        \"num_unique_values\": 9,\n        \"samples\": [\n          -0.004671354086652236,\n          -0.10138991340652778,\n          -0.04601005825365597\n        ],\n        \"semantic_type\": \"\",\n        \"description\": \"\"\n      }\n    },\n    {\n      \"column\": \"Danceability\",\n      \"properties\": {\n        \"dtype\": \"number\",\n        \"std\": 0.38099853990324817,\n        \"min\": -0.3167983695210324,\n        \"max\": 1.0,\n        \"num_unique_values\": 9,\n        \"samples\": [\n          -0.04021855387618269,\n          1.0,\n          -0.3167983695210324\n        ],\n        \"semantic_type\": \"\",\n        \"description\": \"\"\n      }\n    },\n    {\n      \"column\": \"Energy\",\n      \"properties\": {\n        \"dtype\": \"number\",\n        \"std\": 0.4442591329742914,\n        \"min\": -0.5423992091993644,\n        \"max\": 1.0,\n        \"num_unique_values\": 9,\n        \"samples\": [\n          0.11335161272191244,\n          0.14212956055001363,\n          -0.5423992091993644\n        ],\n        \"semantic_type\": \"\",\n        \"description\": \"\"\n      }\n    },\n    {\n      \"column\": \"Loudness\",\n      \"properties\": {\n        \"dtype\": \"number\",\n        \"std\": 0.43765710104781996,\n        \"min\": -0.4774309885471748,\n        \"max\": 1.0,\n        \"num_unique_values\": 9,\n        \"samples\": [\n          0.104371233015735,\n          0.2349277390021839,\n          -0.4774309885471748\n        ],\n        \"semantic_type\": \"\",\n        \"description\": \"\"\n      }\n    },\n    {\n      \"column\": \"Speechiness\",\n      \"properties\": {\n        \"dtype\": \"number\",\n        \"std\": 0.34626008280106846,\n        \"min\": -0.13143646985373003,\n        \"max\": 1.0,\n        \"num_unique_values\": 9,\n        \"samples\": [\n          0.11125546725905208,\n          0.2373944071957094,\n          -0.13143646985373003\n        ],\n        \"semantic_type\": \"\",\n        \"description\": \"\"\n      }\n    },\n    {\n      \"column\": \"Acousticness\",\n      \"properties\": {\n        \"dtype\": \"number\",\n        \"std\": 0.4491128368951211,\n        \"min\": -0.5423992091993644,\n        \"max\": 1.0,\n        \"num_unique_values\": 9,\n        \"samples\": [\n          -0.06163200876399004,\n          -0.3167983695210324,\n          1.0\n        ],\n        \"semantic_type\": \"\",\n        \"description\": \"\"\n      }\n    },\n    {\n      \"column\": \"Liveness\",\n      \"properties\": {\n        \"dtype\": \"number\",\n        \"std\": 0.3331220122083978,\n        \"min\": -0.11451841545592659,\n        \"max\": 1.0,\n        \"num_unique_values\": 9,\n        \"samples\": [\n          -0.018265149817213906,\n          -0.11451841545592659,\n          -0.005469275264633894\n        ],\n        \"semantic_type\": \"\",\n        \"description\": \"\"\n      }\n    },\n    {\n      \"column\": \"Tempo\",\n      \"properties\": {\n        \"dtype\": \"number\",\n        \"std\": 0.3295842979782837,\n        \"min\": -0.06163200876399004,\n        \"max\": 1.0,\n        \"num_unique_values\": 9,\n        \"samples\": [\n          1.0,\n          -0.04021855387618269,\n          -0.06163200876399004\n        ],\n        \"semantic_type\": \"\",\n        \"description\": \"\"\n      }\n    },\n    {\n      \"column\": \"Streams\",\n      \"properties\": {\n        \"dtype\": \"number\",\n        \"std\": 0.33764090519218865,\n        \"min\": -0.08129107688993131,\n        \"max\": 1.0,\n        \"num_unique_values\": 9,\n        \"samples\": [\n          0.0534584298288487,\n          -0.08129107688993131,\n          0.0340541199849679\n        ],\n        \"semantic_type\": \"\",\n        \"description\": \"\"\n      }\n    }\n  ]\n}"
            }
          },
          "metadata": {},
          "execution_count": 87
        }
      ]
    },
    {
      "cell_type": "code",
      "source": [
        "plt.figure(figsize=(10,10))\n",
        "sns.heatmap(corr, cmap='BuPu')"
      ],
      "metadata": {
        "colab": {
          "base_uri": "https://localhost:8080/",
          "height": 935
        },
        "id": "e4zNqbHiD3VO",
        "outputId": "b17309c3-e12d-41c2-94fd-68dd8c7822af"
      },
      "execution_count": null,
      "outputs": [
        {
          "output_type": "execute_result",
          "data": {
            "text/plain": [
              "<Axes: >"
            ]
          },
          "metadata": {},
          "execution_count": 88
        },
        {
          "output_type": "display_data",
          "data": {
            "text/plain": [
              "<Figure size 1000x1000 with 2 Axes>"
            ],
            "image/png": "[encoded data removed]"
          },
          "metadata": {}
        }
      ]
    },
    {
      "cell_type": "markdown",
      "source": [
        "Check for correlation with target\n"
      ],
      "metadata": {
        "id": "blySsFvCNjgg"
      }
    },
    {
      "cell_type": "code",
      "source": [
        "corr['Streams']"
      ],
      "metadata": {
        "id": "OAIrO7J4NjTr",
        "colab": {
          "base_uri": "https://localhost:8080/",
          "height": 366
        },
        "outputId": "1e6febad-e64b-4a8a-d512-0c390cf4e926"
      },
      "execution_count": null,
      "outputs": [
        {
          "output_type": "execute_result",
          "data": {
            "text/plain": [
              "Duration (ms)    0.015964\n",
              "Danceability    -0.081291\n",
              "Energy           0.004145\n",
              "Loudness        -0.031155\n",
              "Speechiness     -0.062620\n",
              "Acousticness     0.034054\n",
              "Liveness         0.042105\n",
              "Tempo            0.053458\n",
              "Streams          1.000000\n",
              "Name: Streams, dtype: float64"
            ],
            "text/html": [
              "<div>\n",
              "<style scoped>\n",
              "    .dataframe tbody tr th:only-of-type {\n",
              "        vertical-align: middle;\n",
              "    }\n",
              "\n",
              "    .dataframe tbody tr th {\n",
              "        vertical-align: top;\n",
              "    }\n",
              "\n",
              "    .dataframe thead th {\n",
              "        text-align: right;\n",
              "    }\n",
              "</style>\n",
              "<table border=\"1\" class=\"dataframe\">\n",
              "  <thead>\n",
              "    <tr style=\"text-align: right;\">\n",
              "      <th></th>\n",
              "      <th>Streams</th>\n",
              "    </tr>\n",
              "  </thead>\n",
              "  <tbody>\n",
              "    <tr>\n",
              "      <th>Duration (ms)</th>\n",
              "      <td>0.015964</td>\n",
              "    </tr>\n",
              "    <tr>\n",
              "      <th>Danceability</th>\n",
              "      <td>-0.081291</td>\n",
              "    </tr>\n",
              "    <tr>\n",
              "      <th>Energy</th>\n",
              "      <td>0.004145</td>\n",
              "    </tr>\n",
              "    <tr>\n",
              "      <th>Loudness</th>\n",
              "      <td>-0.031155</td>\n",
              "    </tr>\n",
              "    <tr>\n",
              "      <th>Speechiness</th>\n",
              "      <td>-0.062620</td>\n",
              "    </tr>\n",
              "    <tr>\n",
              "      <th>Acousticness</th>\n",
              "      <td>0.034054</td>\n",
              "    </tr>\n",
              "    <tr>\n",
              "      <th>Liveness</th>\n",
              "      <td>0.042105</td>\n",
              "    </tr>\n",
              "    <tr>\n",
              "      <th>Tempo</th>\n",
              "      <td>0.053458</td>\n",
              "    </tr>\n",
              "    <tr>\n",
              "      <th>Streams</th>\n",
              "      <td>1.000000</td>\n",
              "    </tr>\n",
              "  </tbody>\n",
              "</table>\n",
              "</div><br><label><b>dtype:</b> float64</label>"
            ]
          },
          "metadata": {},
          "execution_count": 89
        }
      ]
    },
    {
      "cell_type": "code",
      "source": [
        "#Correlation Pair Table\n",
        "mask = np.triu(np.ones_like(corr, dtype=bool))\n",
        "lower_triangle = corr.mask(mask)\n",
        "corr_pair = (\n",
        "  lower_triangle[ lower_triangle.abs() > 0.40]\n",
        "  .drop( \"Streams\" )\n",
        "  .unstack()\n",
        "  .dropna()\n",
        "  .sort_values( ascending = False )\n",
        ")\n",
        "\n",
        "corr_pair.reset_index()\n",
        "corr_pair.rename({'0' : \"Correlation\"})"
      ],
      "metadata": {
        "colab": {
          "base_uri": "https://localhost:8080/",
          "height": 178
        },
        "id": "RtdB00iGxQDE",
        "outputId": "d3a00e8a-e74e-491a-87fb-1599f8d8fa20"
      },
      "execution_count": null,
      "outputs": [
        {
          "output_type": "execute_result",
          "data": {
            "text/plain": [
              "Energy    Loudness        0.732616\n",
              "Loudness  Acousticness   -0.477431\n",
              "Energy    Acousticness   -0.542399\n",
              "dtype: float64"
            ],
            "text/html": [
              "<div>\n",
              "<style scoped>\n",
              "    .dataframe tbody tr th:only-of-type {\n",
              "        vertical-align: middle;\n",
              "    }\n",
              "\n",
              "    .dataframe tbody tr th {\n",
              "        vertical-align: top;\n",
              "    }\n",
              "\n",
              "    .dataframe thead th {\n",
              "        text-align: right;\n",
              "    }\n",
              "</style>\n",
              "<table border=\"1\" class=\"dataframe\">\n",
              "  <thead>\n",
              "    <tr style=\"text-align: right;\">\n",
              "      <th></th>\n",
              "      <th></th>\n",
              "      <th>0</th>\n",
              "    </tr>\n",
              "  </thead>\n",
              "  <tbody>\n",
              "    <tr>\n",
              "      <th>Energy</th>\n",
              "      <th>Loudness</th>\n",
              "      <td>0.732616</td>\n",
              "    </tr>\n",
              "    <tr>\n",
              "      <th>Loudness</th>\n",
              "      <th>Acousticness</th>\n",
              "      <td>-0.477431</td>\n",
              "    </tr>\n",
              "    <tr>\n",
              "      <th>Energy</th>\n",
              "      <th>Acousticness</th>\n",
              "      <td>-0.542399</td>\n",
              "    </tr>\n",
              "  </tbody>\n",
              "</table>\n",
              "</div><br><label><b>dtype:</b> float64</label>"
            ]
          },
          "metadata": {},
          "execution_count": 90
        }
      ]
    },
    {
      "cell_type": "code",
      "source": [
        "simple_train.drop(['Energy'],axis = 1, inplace = True)\n",
        "simple_train.columns"
      ],
      "metadata": {
        "colab": {
          "base_uri": "https://localhost:8080/"
        },
        "id": "lAUxkhMEKu6Z",
        "outputId": "0abc8e09-f94d-41c1-fdbe-d19a9c257a56"
      },
      "execution_count": null,
      "outputs": [
        {
          "output_type": "execute_result",
          "data": {
            "text/plain": [
              "Index(['Duration (ms)', 'Danceability', 'Loudness', 'Speechiness',\n",
              "       'Acousticness', 'Liveness', 'Tempo', 'Streams'],\n",
              "      dtype='object')"
            ]
          },
          "metadata": {},
          "execution_count": 91
        }
      ]
    },
    {
      "cell_type": "markdown",
      "source": [
        "---\n",
        "---\n",
        "## Processing\n"
      ],
      "metadata": {
        "id": "Ij_fgEbh2hVk"
      }
    },
    {
      "cell_type": "markdown",
      "source": [
        "- what questions did you ask to determine which ML process to use?\n",
        "  - NB (assumes normal distribution of predictors)\n",
        "- how did/can you determine what performance metric to use?  What others could you have used?  Which metrics might not be appropriate?\n",
        "- how did/can you account for the variance/bias trade-off?\n",
        "\n",
        "\n",
        "\n",
        "\n",
        "\n",
        "\n",
        "\n"
      ],
      "metadata": {
        "id": "4Uyd2kQr4Vl5"
      }
    },
    {
      "cell_type": "markdown",
      "source": [
        "THREE ROUNDS OF THIS\n",
        "\n",
        "D tree\n",
        "random forest\n",
        "XGboost"
      ],
      "metadata": {
        "id": "VdIvA4JYbgZD"
      }
    },
    {
      "cell_type": "code",
      "source": [
        "y = simple_train['Streams'] #Target data frame (y)\n",
        "X = simple_train.drop('Streams', axis=1, inplace=False)#Train dataframe (x)\n",
        "\n",
        "numLoops = 500\n",
        "\n",
        "RMSE = {}"
      ],
      "metadata": {
        "id": "660LD6qs9NPZ"
      },
      "execution_count": null,
      "outputs": []
    },
    {
      "cell_type": "markdown",
      "source": [
        "###Descision Tree 1"
      ],
      "metadata": {
        "id": "oETj7ncMD2xY"
      }
    },
    {
      "cell_type": "code",
      "source": [
        "# Decision tree\n",
        "rms_error = np.zeros(numLoops)\n",
        "\n",
        "for idx in range(numLoops):\n",
        "  model = DecisionTreeRegressor(max_depth=3)  # make a model\n",
        "  X_train, X_test, y_train, y_test = model_selection.train_test_split(X, y, test_size = 0.2) #split data (x = featutes, y= target)\n",
        "  model.fit(X_train,y_train) #fit model\n",
        "  y_pred = model.predict(X_test) # predict\n",
        "  rms_error[idx] = np.sqrt(mean_squared_error(y_test, y_pred)) #measure accuracy\n",
        "RMSE['Descision Tree'] = round(rms_error.mean(), 2)\n",
        "plt.hist(rms_error, bins = 20)\n",
        "plt.title('Root mean square error of Desicion Tree')\n",
        "plt.show()"
      ],
      "metadata": {
        "colab": {
          "base_uri": "https://localhost:8080/"
        },
        "collapsed": true,
        "id": "xSm0zNg4PWbd",
        "outputId": "cec25443-875c-4614-aeb8-1073c7b68595"
      },
      "execution_count": null,
      "outputs": [
        {
          "output_type": "display_data",
          "data": {
            "text/plain": [
              "<Figure size 640x480 with 1 Axes>"
            ],
            "image/png": "[encoded data removed]"
          },
          "metadata": {}
        }
      ]
    },
    {
      "cell_type": "code",
      "source": [
        "RMSE"
      ],
      "metadata": {
        "colab": {
          "base_uri": "https://localhost:8080/"
        },
        "id": "Db7Xy6q8Bkl5",
        "outputId": "2b371564-0b1b-498c-c397-7bff09ffb7f3"
      },
      "execution_count": null,
      "outputs": [
        {
          "output_type": "execute_result",
          "data": {
            "text/plain": [
              "{'Descision Tree': 3452647.66}"
            ]
          },
          "metadata": {},
          "execution_count": 110
        }
      ]
    },
    {
      "cell_type": "markdown",
      "source": [
        "###Random Forest 1"
      ],
      "metadata": {
        "id": "U8YZZ2zsD6Vj"
      }
    },
    {
      "cell_type": "code",
      "source": [
        "# RandomForestRegressor\n",
        "rms_error = np.zeros(numLoops)\n",
        "\n",
        "for idx in range(numLoops):\n",
        "  model = RandomForestRegressor(max_depth=3)  # make a model\n",
        "  X_train, X_test, y_train, y_test = model_selection.train_test_split(X, y, test_size = 0.2) #split data (x = featutes, y= target)\n",
        "  model.fit(X_train,y_train) #fit model\n",
        "  y_pred = model.predict(X_test) # predict\n",
        "  rms_error[idx] = np.sqrt(mean_squared_error(y_test, y_pred)) #measure accuracy\n",
        "RMSE['Random Forest'] = round(rms_error.mean(), 2)\n",
        "plt.hist(rms_error, bins = 20)\n",
        "plt.title('Root mean square error of Random Forest')\n",
        "plt.show()"
      ],
      "metadata": {
        "colab": {
          "base_uri": "https://localhost:8080/",
          "height": 470
        },
        "id": "epmRAylUOnQK",
        "outputId": "a2f1c32e-473b-4d65-e165-d49838ea5aa8"
      },
      "execution_count": null,
      "outputs": [
        {
          "output_type": "display_data",
          "data": {
            "text/plain": [
              "<Figure size 640x480 with 1 Axes>"
            ],
            "image/png": "[encoded data removed]"
          },
          "metadata": {}
        }
      ]
    },
    {
      "cell_type": "code",
      "source": [
        "RMSE"
      ],
      "metadata": {
        "colab": {
          "base_uri": "https://localhost:8080/"
        },
        "id": "WtuFJcqfBuFO",
        "outputId": "4a58f8fc-b023-4eaa-cd7f-7c716091c069"
      },
      "execution_count": null,
      "outputs": [
        {
          "output_type": "execute_result",
          "data": {
            "text/plain": [
              "{'Descision Tree': 3452647.66, 'Random Forest': 3325235.89}"
            ]
          },
          "metadata": {},
          "execution_count": 112
        }
      ]
    },
    {
      "cell_type": "markdown",
      "source": [
        "### XGBoost process"
      ],
      "metadata": {
        "id": "WRMVqG8QEBP1"
      }
    },
    {
      "cell_type": "code",
      "source": [
        "# xgb\n",
        "## From https://colab.research.google.com/drive/1DdEK2Emep244zUEG_KpzDNI8Ij-4s_NS#scrollTo=r1uQqSv0j8OI\n",
        "numLoops = 100\n",
        "mse_xgb  = np.zeros(numLoops)\n",
        "\n",
        "for idx in range(0,numLoops):\n",
        "  X_train, X_test, y_train, y_test = train_test_split(X,y,test_size=0.15)\n",
        "  xgbr = xgb.XGBRegressor(objective ='reg:squarederror', verbosity=0, seed = 10)\n",
        "  xgbr.fit(X_train,y_train)\n",
        "  y_pred_xgb = xgbr.predict(X_test)\n",
        "  mse_xgb[idx] = mean_squared_error(y_test,y_pred_xgb)\n",
        "\n",
        "RMSE['XGBoost 1'] = np.sqrt(mse_xgb).mean()\n",
        "RMSE"
      ],
      "metadata": {
        "colab": {
          "base_uri": "https://localhost:8080/"
        },
        "id": "ut-IBJJLOoIa",
        "outputId": "7c5d1b0f-9fd2-4ab9-d30d-4275055631bf"
      },
      "execution_count": null,
      "outputs": [
        {
          "output_type": "execute_result",
          "data": {
            "text/plain": [
              "{'Descision Tree': 3452647.66,\n",
              " 'Random Forest': 3325235.89,\n",
              " 'XGBoost 1': 3663261.9192317617}"
            ]
          },
          "metadata": {},
          "execution_count": 113
        }
      ]
    },
    {
      "cell_type": "code",
      "source": [
        "plt.hist(mse_xgb, bins = 20)\n",
        "plt.title('Root mean square error of XGBoost')\n",
        "plt.show()"
      ],
      "metadata": {
        "colab": {
          "base_uri": "https://localhost:8080/",
          "height": 470
        },
        "id": "tztFxRK6CFw8",
        "outputId": "ef11b23a-7b61-4d63-e40a-750569251478"
      },
      "execution_count": null,
      "outputs": [
        {
          "output_type": "display_data",
          "data": {
            "text/plain": [
              "<Figure size 640x480 with 1 Axes>"
            ],
            "image/png": "[encoded data removed]"
          },
          "metadata": {}
        }
      ]
    },
    {
      "cell_type": "markdown",
      "source": [
        "XGBoost finding best parameters"
      ],
      "metadata": {
        "id": "prYHqMA-_JOL"
      }
    },
    {
      "cell_type": "code",
      "execution_count": null,
      "metadata": {
        "id": "y1EC2nCTOu0r",
        "colab": {
          "base_uri": "https://localhost:8080/"
        },
        "outputId": "0cb0144d-5374-48bd-e208-17a708de36a3"
      },
      "outputs": [
        {
          "output_type": "stream",
          "name": "stdout",
          "text": [
            "{'learning_rate': 0.1, 'max_depth': 3, 'n_estimators': 20}\n"
          ]
        }
      ],
      "source": [
        "# Specify the parameters you want to try and their ranges.\n",
        "param_test = {\n",
        " 'max_depth'     : [ 3, 4, 5, 6, 7 ],\n",
        " 'learning_rate' : [ 0.1, 0.2, 0.3, 0.4 ],\n",
        " 'n_estimators'  : [ 20, 40, 60, 80, 100, 120, 140 ],\n",
        "}\n",
        "\n",
        "# Perform the grid search\n",
        "gsearch = GridSearchCV(\n",
        "    estimator = xgb.XGBRegressor( objective = 'reg:squarederror', seed = 10 ),\n",
        "    param_grid = param_test,\n",
        "    scoring = 'neg_mean_squared_error',\n",
        "    cv = 5,\n",
        ")\n",
        "\n",
        "# Fit to training data\n",
        "X_train, X_test, y_train, y_test = train_test_split(X,y,test_size=0.05, random_state = 42 )\n",
        "model = gsearch.fit(X_train,y_train)\n",
        "\n",
        "# See grid search results\n",
        "print(model.best_params_)"
      ]
    },
    {
      "cell_type": "markdown",
      "source": [
        "Run XGBoost with these suggested params"
      ],
      "metadata": {
        "id": "1mBWTmJjHt6O"
      }
    },
    {
      "cell_type": "code",
      "source": [
        "numLoops = 100\n",
        "mse_xgb  = np.zeros(numLoops)\n",
        "\n",
        "for idx in range(0,numLoops):\n",
        "  X_train, X_test, y_train, y_test = train_test_split( X, y, test_size = 0.15 )\n",
        "  xgbr = xgb.XGBRegressor(\n",
        "      objective ='reg:squarederror',\n",
        "      verbosity=0,\n",
        "      learning_rate = 0.1,\n",
        "      max_depth = 3,\n",
        "      n_estimators = 20,\n",
        "      seed = 10,\n",
        "  )\n",
        "  xgbr.fit(X_train,y_train)\n",
        "  y_pred_xgb = xgbr.predict(X_test)\n",
        "  mse_xgb[idx] = mean_squared_error(y_test,y_pred_xgb)\n",
        "\n",
        "RMSE['XGBoost 2'] = np.sqrt(mse_xgb).mean()"
      ],
      "metadata": {
        "id": "813M0eqnAYp0"
      },
      "execution_count": null,
      "outputs": []
    },
    {
      "cell_type": "markdown",
      "source": [
        "Parameters all seemed to be on the lower end. Run again with finer range of parameters"
      ],
      "metadata": {
        "id": "p8KvO5QlErXy"
      }
    },
    {
      "cell_type": "code",
      "source": [
        "# Specify the parameters you want to try and their ranges.\n",
        "param_test = {\n",
        " 'max_depth'     : [ 2,3,4 ],\n",
        " 'learning_rate' : [ 0.05,0.1,0.15,0.2 ],\n",
        " 'n_estimators'  : [ 5,10,15,20,30, 40 ],\n",
        "}\n",
        "\n",
        "# Perform the grid search\n",
        "gsearch = GridSearchCV(\n",
        "    estimator = xgb.XGBRegressor( objective = 'reg:squarederror', seed = 10 ),\n",
        "    param_grid = param_test,\n",
        "    scoring = 'neg_mean_squared_error',\n",
        "    cv = 5,\n",
        ")\n",
        "\n",
        "# Fit to training data\n",
        "X_train, X_test, y_train, y_test = train_test_split(X,y,test_size=0.15, random_state = 42 )\n",
        "model = gsearch.fit(X_train,y_train)\n",
        "\n",
        "# See grid search results\n",
        "print(model.best_params_)"
      ],
      "metadata": {
        "colab": {
          "base_uri": "https://localhost:8080/"
        },
        "id": "1L6zDgL7EfPC",
        "outputId": "4f8a2e05-df60-4464-c45c-ca5f0da44589"
      },
      "execution_count": null,
      "outputs": [
        {
          "output_type": "stream",
          "name": "stdout",
          "text": [
            "{'learning_rate': 0.15, 'max_depth': 3, 'n_estimators': 5}\n"
          ]
        }
      ]
    },
    {
      "cell_type": "markdown",
      "source": [
        "Run XGBoost again with more specific suggested params"
      ],
      "metadata": {
        "id": "-eiuBwNZAla2"
      }
    },
    {
      "cell_type": "code",
      "source": [
        "numLoops = 100\n",
        "mse_xgb  = np.zeros(numLoops)\n",
        "\n",
        "for idx in range(0,numLoops):\n",
        "  X_train, X_test, y_train, y_test = train_test_split( X, y, test_size = 0.15 )\n",
        "  xgbr = xgb.XGBRegressor(\n",
        "      objective ='reg:squarederror',\n",
        "      verbosity=0,\n",
        "      learning_rate = 0.15,\n",
        "      max_depth = 3,\n",
        "      n_estimators = 5,\n",
        "      seed = 10,\n",
        "  )\n",
        "  xgbr.fit(X_train,y_train)\n",
        "  y_pred_xgb = xgbr.predict(X_test)\n",
        "  mse_xgb[idx] = mean_squared_error(y_test,y_pred_xgb)\n",
        "\n",
        "RMSE['XGBoost 3'] = np.sqrt(mse_xgb).mean()"
      ],
      "metadata": {
        "id": "s97MEwsqE5a0"
      },
      "execution_count": null,
      "outputs": []
    },
    {
      "cell_type": "code",
      "source": [
        "RMSE"
      ],
      "metadata": {
        "colab": {
          "base_uri": "https://localhost:8080/"
        },
        "id": "is_wfohHDg17",
        "outputId": "69b16d35-2d5a-49f4-d43c-91abb90f3426"
      },
      "execution_count": null,
      "outputs": [
        {
          "output_type": "execute_result",
          "data": {
            "text/plain": [
              "{'Descision Tree': 3452647.66,\n",
              " 'Random Forest': 3325235.89,\n",
              " 'XGBoost 1': 3663261.9192317617,\n",
              " 'XGBoost 2': 3263297.573674063,\n",
              " 'XGBoost 3': 3323244.6808083775}"
            ]
          },
          "metadata": {},
          "execution_count": 119
        }
      ]
    },
    {
      "cell_type": "code",
      "source": [
        "plt.hist(mse_xgb, bins = 20)\n",
        "plt.title('Root mean square error of XGBoost Improved Params')\n",
        "plt.show()"
      ],
      "metadata": {
        "colab": {
          "base_uri": "https://localhost:8080/",
          "height": 470
        },
        "id": "DQ2qiYwsAq4I",
        "outputId": "d3d62dea-9b5c-41d0-ee42-e867d4845e45"
      },
      "execution_count": null,
      "outputs": [
        {
          "output_type": "display_data",
          "data": {
            "text/plain": [
              "<Figure size 640x480 with 1 Axes>"
            ],
            "image/png": "[encoded data removed]"
          },
          "metadata": {}
        }
      ]
    },
    {
      "cell_type": "markdown",
      "source": [
        "Show most important feature based on best parameters for XGBoost"
      ],
      "metadata": {
        "id": "1b7_4qpC_UWm"
      }
    },
    {
      "cell_type": "code",
      "source": [
        "feat_imp = pd.Series(xgbr.feature_importances_, index=X.columns).sort_values( ascending = False )\n",
        "plt.figure(figsize = (10,6))\n",
        "# ax = sns.barplot(x = feat_imp.index, y = feat_imp.values)\n",
        "ax = sns.barplot(x = feat_imp.index, y = feat_imp)\n",
        "ax.set_xticklabels( ax.get_xticklabels(), rotation = 90 )\n",
        "plt.xlabel('Feature')\n",
        "plt.ylabel('Feature Importance Score') ;"
      ],
      "metadata": {
        "colab": {
          "base_uri": "https://localhost:8080/",
          "height": 664
        },
        "id": "viamV6fS_UCm",
        "outputId": "66ee4597-e777-4a64-a6f1-10e53f9d24ee"
      },
      "execution_count": null,
      "outputs": [
        {
          "output_type": "stream",
          "name": "stderr",
          "text": [
            "<ipython-input-121-53a9ef50f5fe>:5: UserWarning: set_ticklabels() should only be used with a fixed number of ticks, i.e. after set_ticks() or using a FixedLocator.\n",
            "  ax.set_xticklabels( ax.get_xticklabels(), rotation = 90 )\n"
          ]
        },
        {
          "output_type": "display_data",
          "data": {
            "text/plain": [
              "<Figure size 1000x600 with 1 Axes>"
            ],
            "image/png": "[encoded data removed]"
          },
          "metadata": {}
        }
      ]
    },
    {
      "cell_type": "code",
      "source": [
        "(feat_imp.sort_values( ascending = False )*100).cumsum()\n"
      ],
      "metadata": {
        "colab": {
          "base_uri": "https://localhost:8080/",
          "height": 304
        },
        "id": "M14r6zA3_kWb",
        "outputId": "e349e133-175a-4d0c-f4cb-e2a92d376d6f"
      },
      "execution_count": null,
      "outputs": [
        {
          "output_type": "execute_result",
          "data": {
            "text/plain": [
              "Duration (ms)     23.843449\n",
              "Loudness          45.250092\n",
              "Tempo             62.697609\n",
              "Speechiness       78.299866\n",
              "Liveness          91.050598\n",
              "Danceability      98.109161\n",
              "Acousticness     100.000008\n",
              "dtype: float32"
            ],
            "text/html": [
              "<div>\n",
              "<style scoped>\n",
              "    .dataframe tbody tr th:only-of-type {\n",
              "        vertical-align: middle;\n",
              "    }\n",
              "\n",
              "    .dataframe tbody tr th {\n",
              "        vertical-align: top;\n",
              "    }\n",
              "\n",
              "    .dataframe thead th {\n",
              "        text-align: right;\n",
              "    }\n",
              "</style>\n",
              "<table border=\"1\" class=\"dataframe\">\n",
              "  <thead>\n",
              "    <tr style=\"text-align: right;\">\n",
              "      <th></th>\n",
              "      <th>0</th>\n",
              "    </tr>\n",
              "  </thead>\n",
              "  <tbody>\n",
              "    <tr>\n",
              "      <th>Duration (ms)</th>\n",
              "      <td>23.843449</td>\n",
              "    </tr>\n",
              "    <tr>\n",
              "      <th>Loudness</th>\n",
              "      <td>45.250092</td>\n",
              "    </tr>\n",
              "    <tr>\n",
              "      <th>Tempo</th>\n",
              "      <td>62.697609</td>\n",
              "    </tr>\n",
              "    <tr>\n",
              "      <th>Speechiness</th>\n",
              "      <td>78.299866</td>\n",
              "    </tr>\n",
              "    <tr>\n",
              "      <th>Liveness</th>\n",
              "      <td>91.050598</td>\n",
              "    </tr>\n",
              "    <tr>\n",
              "      <th>Danceability</th>\n",
              "      <td>98.109161</td>\n",
              "    </tr>\n",
              "    <tr>\n",
              "      <th>Acousticness</th>\n",
              "      <td>100.000008</td>\n",
              "    </tr>\n",
              "  </tbody>\n",
              "</table>\n",
              "</div><br><label><b>dtype:</b> float32</label>"
            ]
          },
          "metadata": {},
          "execution_count": 122
        }
      ]
    },
    {
      "cell_type": "markdown",
      "source": [
        "###Drop least important features"
      ],
      "metadata": {
        "id": "caI5sYQ3KKds"
      }
    },
    {
      "cell_type": "markdown",
      "source": [
        "Choose what to drop based on these things and then cycle through DT, RF and XGB again for the funsies"
      ],
      "metadata": {
        "id": "-AGcBtGdELL0"
      }
    },
    {
      "cell_type": "code",
      "source": [
        "drop_features = ['Acousticness','Danceability']"
      ],
      "metadata": {
        "id": "SGhbSgqSGva_"
      },
      "execution_count": null,
      "outputs": []
    },
    {
      "cell_type": "code",
      "source": [
        "simple_train.drop(drop_features, axis = 1, inplace = True)\n",
        "simple_train.columns"
      ],
      "metadata": {
        "colab": {
          "base_uri": "https://localhost:8080/"
        },
        "id": "2V9XdQaXF1va",
        "outputId": "0b51b67e-0c75-4b6f-daa3-042a9ce0b5be"
      },
      "execution_count": null,
      "outputs": [
        {
          "output_type": "execute_result",
          "data": {
            "text/plain": [
              "Index(['Duration (ms)', 'Loudness', 'Speechiness', 'Liveness', 'Tempo',\n",
              "       'Streams'],\n",
              "      dtype='object')"
            ]
          },
          "metadata": {},
          "execution_count": 124
        }
      ]
    },
    {
      "cell_type": "code",
      "source": [
        "y = simple_train['Streams'] #Target data frame (y)\n",
        "X = simple_train.drop('Streams', axis=1, inplace=False)#Train dataframe (x)"
      ],
      "metadata": {
        "id": "Gh2MAN8TG9Of"
      },
      "execution_count": null,
      "outputs": []
    },
    {
      "cell_type": "markdown",
      "source": [
        "###Descision Tree 2"
      ],
      "metadata": {
        "id": "yMpWAitkGbQm"
      }
    },
    {
      "cell_type": "code",
      "source": [
        "# Decision tree\n",
        "rms_error = np.zeros(numLoops)\n",
        "\n",
        "for idx in range(numLoops):\n",
        "  model = DecisionTreeRegressor(max_depth=3)  # make a model\n",
        "  X_train, X_test, y_train, y_test = model_selection.train_test_split(X, y, test_size = 0.2) #split data (x = featutes, y= target)\n",
        "  model.fit(X_train,y_train) #fit model\n",
        "  y_pred = model.predict(X_test) # predict\n",
        "  rms_error[idx] = np.sqrt(mean_squared_error(y_test, y_pred)) #measure accuracy\n",
        "RMSE['Descision Tree 2'] = round(rms_error.mean(), 2)\n",
        "plt.hist(rms_error, bins = 20)\n",
        "plt.title('Root mean square error of Desicion Tree')\n",
        "plt.show()"
      ],
      "metadata": {
        "colab": {
          "base_uri": "https://localhost:8080/",
          "height": 470
        },
        "collapsed": true,
        "outputId": "5ed6b193-0806-4bca-ff66-a7b6540598d4",
        "id": "UjyEqTvZGbQn"
      },
      "execution_count": null,
      "outputs": [
        {
          "output_type": "display_data",
          "data": {
            "text/plain": [
              "<Figure size 640x480 with 1 Axes>"
            ],
            "image/png": "[encoded data removed]"
          },
          "metadata": {}
        }
      ]
    },
    {
      "cell_type": "code",
      "source": [
        "RMSE"
      ],
      "metadata": {
        "colab": {
          "base_uri": "https://localhost:8080/"
        },
        "outputId": "b2243a2f-43ce-4d93-c410-073275323ee3",
        "id": "dng03dvuITcC"
      },
      "execution_count": null,
      "outputs": [
        {
          "output_type": "execute_result",
          "data": {
            "text/plain": [
              "{'Descision Tree': 3452647.66,\n",
              " 'Random Forest': 3325235.89,\n",
              " 'XGBoost 1': 3663261.9192317617,\n",
              " 'XGBoost 2': 3263297.573674063,\n",
              " 'XGBoost 3': 3323244.6808083775,\n",
              " 'Descision Tree 2': 3370766.0}"
            ]
          },
          "metadata": {},
          "execution_count": 127
        }
      ]
    },
    {
      "cell_type": "markdown",
      "source": [
        "###Random Forest 2"
      ],
      "metadata": {
        "id": "Qc7DLcL5ITb_"
      }
    },
    {
      "cell_type": "code",
      "source": [
        "# RandomForestRegressor\n",
        "rms_error = np.zeros(numLoops)\n",
        "\n",
        "for idx in range(numLoops):\n",
        "  model = RandomForestRegressor(max_depth=3)  # make a model\n",
        "  X_train, X_test, y_train, y_test = model_selection.train_test_split(X, y, test_size = 0.2) #split data (x = featutes, y= target)\n",
        "  model.fit(X_train,y_train) #fit model\n",
        "  y_pred = model.predict(X_test) # predict\n",
        "  rms_error[idx] = np.sqrt(mean_squared_error(y_test, y_pred)) #measure accuracy\n",
        "RMSE['Random Forest 2'] = round(rms_error.mean(), 2)\n",
        "plt.hist(rms_error, bins = 20)\n",
        "plt.title('Root mean square error of Random Forest 2')\n",
        "plt.show()"
      ],
      "metadata": {
        "colab": {
          "base_uri": "https://localhost:8080/",
          "height": 470
        },
        "outputId": "d19c0e72-4752-4ce5-c8b1-2d3140ff32ce",
        "id": "ls4TnERrITcB"
      },
      "execution_count": null,
      "outputs": [
        {
          "output_type": "display_data",
          "data": {
            "text/plain": [
              "<Figure size 640x480 with 1 Axes>"
            ],
            "image/png": "[encoded data removed]"
          },
          "metadata": {}
        }
      ]
    },
    {
      "cell_type": "code",
      "source": [
        "RMSE"
      ],
      "metadata": {
        "colab": {
          "base_uri": "https://localhost:8080/"
        },
        "outputId": "667431eb-7ecd-4f5b-a8e5-51869e0b9cc1",
        "id": "_opOEuo1GbQn"
      },
      "execution_count": null,
      "outputs": [
        {
          "output_type": "execute_result",
          "data": {
            "text/plain": [
              "{'Descision Tree': 3452647.66,\n",
              " 'Random Forest': 3325235.89,\n",
              " 'XGBoost 1': 3663261.9192317617,\n",
              " 'XGBoost 2': 3263297.573674063,\n",
              " 'XGBoost 3': 3323244.6808083775,\n",
              " 'Descision Tree 2': 3370766.0,\n",
              " 'Random Forest 2': 3381142.99}"
            ]
          },
          "metadata": {},
          "execution_count": 129
        }
      ]
    },
    {
      "cell_type": "code",
      "source": [],
      "metadata": {
        "id": "6P7MBf32Iplu"
      },
      "execution_count": null,
      "outputs": []
    },
    {
      "cell_type": "markdown",
      "source": [
        "### XGBoost process 2"
      ],
      "metadata": {
        "id": "RvoHrR1pI5M2"
      }
    },
    {
      "cell_type": "code",
      "source": [
        "# xgb\n",
        "## From https://colab.research.google.com/drive/1DdEK2Emep244zUEG_KpzDNI8Ij-4s_NS#scrollTo=r1uQqSv0j8OI\n",
        "numLoops = 100\n",
        "mse_xgb  = np.zeros(numLoops)\n",
        "\n",
        "for idx in range(0,numLoops):\n",
        "  X_train, X_test, y_train, y_test = train_test_split(X,y,test_size=0.15)\n",
        "  xgbr = xgb.XGBRegressor(objective ='reg:squarederror', verbosity=0, seed = 10)\n",
        "  xgbr.fit(X_train,y_train)\n",
        "  y_pred_xgb = xgbr.predict(X_test)\n",
        "  mse_xgb[idx] = mean_squared_error(y_test,y_pred_xgb)\n",
        "\n",
        "RMSE['XGBoost 2.1'] = np.sqrt(mse_xgb).mean()\n",
        "RMSE"
      ],
      "metadata": {
        "colab": {
          "base_uri": "https://localhost:8080/"
        },
        "outputId": "e7811af7-4afe-4d6d-944e-035e8cde8286",
        "id": "7_gMlDWPI5M3"
      },
      "execution_count": null,
      "outputs": [
        {
          "output_type": "execute_result",
          "data": {
            "text/plain": [
              "{'Descision Tree': 3452647.66,\n",
              " 'Random Forest': 3325235.89,\n",
              " 'XGBoost 1': 3663261.9192317617,\n",
              " 'XGBoost 2': 3263297.573674063,\n",
              " 'XGBoost 3': 3323244.6808083775,\n",
              " 'Descision Tree 2': 3370766.0,\n",
              " 'Random Forest 2': 3381142.99,\n",
              " 'XGBoost 2.1': 3616979.007268448}"
            ]
          },
          "metadata": {},
          "execution_count": 130
        }
      ]
    },
    {
      "cell_type": "code",
      "source": [
        "plt.hist(mse_xgb, bins = 20)\n",
        "plt.title('Root mean square error of XGBoost 2.1')\n",
        "plt.show()"
      ],
      "metadata": {
        "colab": {
          "base_uri": "https://localhost:8080/",
          "height": 470
        },
        "outputId": "8974f839-f200-46cc-a6d7-4265b125c341",
        "id": "2vYr4MzMI5M3"
      },
      "execution_count": null,
      "outputs": [
        {
          "output_type": "display_data",
          "data": {
            "text/plain": [
              "<Figure size 640x480 with 1 Axes>"
            ],
            "image/png": "[encoded data removed]"
          },
          "metadata": {}
        }
      ]
    },
    {
      "cell_type": "markdown",
      "source": [
        "XGBoost finding best parameters"
      ],
      "metadata": {
        "id": "nWGf6Ld_I5M3"
      }
    },
    {
      "cell_type": "code",
      "execution_count": null,
      "metadata": {
        "colab": {
          "base_uri": "https://localhost:8080/"
        },
        "outputId": "524c8364-ed19-4c45-ae38-cb539f908891",
        "id": "AK5S3rFnI5M3"
      },
      "outputs": [
        {
          "output_type": "stream",
          "name": "stdout",
          "text": [
            "{'learning_rate': 0.1, 'max_depth': 3, 'n_estimators': 20}\n"
          ]
        }
      ],
      "source": [
        "# Specify the parameters you want to try and their ranges.\n",
        "param_test = {\n",
        " 'max_depth'     : [ 3, 4, 5, 6, 7 ],\n",
        " 'learning_rate' : [ 0.1, 0.2, 0.3, 0.4 ],\n",
        " 'n_estimators'  : [ 20, 40, 60, 80, 100, 120, 140 ],\n",
        "}\n",
        "\n",
        "# Perform the grid search\n",
        "gsearch = GridSearchCV(\n",
        "    estimator = xgb.XGBRegressor( objective = 'reg:squarederror', seed = 10 ),\n",
        "    param_grid = param_test,\n",
        "    scoring = 'neg_mean_squared_error',\n",
        "    cv = 5,\n",
        ")\n",
        "\n",
        "# Fit to training data\n",
        "X_train, X_test, y_train, y_test = train_test_split(X,y,test_size=0.05, random_state = 42 )\n",
        "model = gsearch.fit(X_train,y_train)\n",
        "\n",
        "# See grid search results\n",
        "print(model.best_params_)"
      ]
    },
    {
      "cell_type": "markdown",
      "source": [
        "Run XGBoost with these suggested params"
      ],
      "metadata": {
        "id": "Mrd8OXqHI5M3"
      }
    },
    {
      "cell_type": "code",
      "source": [
        "numLoops = 100\n",
        "mse_xgb  = np.zeros(numLoops)\n",
        "\n",
        "for idx in range(0,numLoops):\n",
        "  X_train, X_test, y_train, y_test = train_test_split( X, y, test_size = 0.15 )\n",
        "  xgbr = xgb.XGBRegressor(\n",
        "      objective ='reg:squarederror',\n",
        "      verbosity=0,\n",
        "      learning_rate = 0.1,\n",
        "      max_depth = 3,\n",
        "      n_estimators = 20,\n",
        "      seed = 10,\n",
        "  )\n",
        "  xgbr.fit(X_train,y_train)\n",
        "  y_pred_xgb = xgbr.predict(X_test)\n",
        "  mse_xgb[idx] = mean_squared_error(y_test,y_pred_xgb)\n",
        "\n",
        "RMSE['XGBoost 2.2'] = np.sqrt(mse_xgb).mean()"
      ],
      "metadata": {
        "id": "GOtBgsXaI5M4"
      },
      "execution_count": null,
      "outputs": []
    },
    {
      "cell_type": "markdown",
      "source": [
        "Parameters all seemed to be on the lower end. Run again with finer range of parameters"
      ],
      "metadata": {
        "id": "1TUitjAtI5M4"
      }
    },
    {
      "cell_type": "code",
      "source": [
        "# Specify the parameters you want to try and their ranges.\n",
        "param_test = {\n",
        " 'max_depth'     : [ 2,3,4 ],\n",
        " 'learning_rate' : [ 0.05,0.1,0.15,0.2 ],\n",
        " 'n_estimators'  : [ 5,10,15,20,30, 40 ],\n",
        "}\n",
        "\n",
        "# Perform the grid search\n",
        "gsearch = GridSearchCV(\n",
        "    estimator = xgb.XGBRegressor( objective = 'reg:squarederror', seed = 10 ),\n",
        "    param_grid = param_test,\n",
        "    scoring = 'neg_mean_squared_error',\n",
        "    cv = 5,\n",
        ")\n",
        "\n",
        "# Fit to training data\n",
        "X_train, X_test, y_train, y_test = train_test_split(X,y,test_size=0.05, random_state = 42 )\n",
        "model = gsearch.fit(X_train,y_train)\n",
        "\n",
        "# See grid search results\n",
        "print(model.best_params_)"
      ],
      "metadata": {
        "colab": {
          "base_uri": "https://localhost:8080/"
        },
        "outputId": "cdd05cbe-a166-42fe-ef04-6d0f2a2dadf5",
        "id": "V8UVzsqiI5M4"
      },
      "execution_count": null,
      "outputs": [
        {
          "output_type": "stream",
          "name": "stdout",
          "text": [
            "{'learning_rate': 0.05, 'max_depth': 4, 'n_estimators': 15}\n"
          ]
        }
      ]
    },
    {
      "cell_type": "markdown",
      "source": [
        "Run XGBoost again with more specific suggested params"
      ],
      "metadata": {
        "id": "A9vPh5eQI5M4"
      }
    },
    {
      "cell_type": "code",
      "source": [
        "numLoops = 100\n",
        "mse_xgb  = np.zeros(numLoops)\n",
        "\n",
        "for idx in range(0,numLoops):\n",
        "  X_train, X_test, y_train, y_test = train_test_split( X, y, test_size = 0.15 )\n",
        "  xgbr = xgb.XGBRegressor(\n",
        "      objective ='reg:squarederror',\n",
        "      verbosity=0,\n",
        "      learning_rate = 0.05,\n",
        "      max_depth = 4,\n",
        "      n_estimators = 15,\n",
        "      seed = 10,\n",
        "  )\n",
        "  xgbr.fit(X_train,y_train)\n",
        "  y_pred_xgb = xgbr.predict(X_test)\n",
        "  mse_xgb[idx] = mean_squared_error(y_test,y_pred_xgb)\n",
        "\n",
        "RMSE['XGBoost 2.3'] = np.sqrt(mse_xgb).mean()"
      ],
      "metadata": {
        "id": "oybDYW91I5M4"
      },
      "execution_count": null,
      "outputs": []
    },
    {
      "cell_type": "code",
      "source": [
        "RMSE"
      ],
      "metadata": {
        "colab": {
          "base_uri": "https://localhost:8080/"
        },
        "outputId": "5a3311ff-fc0e-4878-8331-c0933827515f",
        "id": "5B8IzZa2I5M4"
      },
      "execution_count": null,
      "outputs": [
        {
          "output_type": "execute_result",
          "data": {
            "text/plain": [
              "{'Descision Tree': 3452647.66,\n",
              " 'Random Forest': 3325235.89,\n",
              " 'XGBoost 1': 3663261.9192317617,\n",
              " 'XGBoost 2': 3263297.573674063,\n",
              " 'XGBoost 3': 3323244.6808083775,\n",
              " 'Descision Tree 2': 3370766.0,\n",
              " 'Random Forest 2': 3381142.99,\n",
              " 'XGBoost 2.1': 3616979.007268448,\n",
              " 'XGBoost 2.2': 3149324.102442807,\n",
              " 'XGBoost 2.3': 3278266.9197366317}"
            ]
          },
          "metadata": {},
          "execution_count": 136
        }
      ]
    },
    {
      "cell_type": "code",
      "source": [
        "plt.hist(mse_xgb, bins = 20)\n",
        "plt.title('Root mean square error of XGBoost Improved Params')\n",
        "plt.show()"
      ],
      "metadata": {
        "colab": {
          "base_uri": "https://localhost:8080/",
          "height": 470
        },
        "outputId": "17dab60e-967a-42ef-b685-cdfb4298f5b5",
        "id": "oCNT84RjI5M4"
      },
      "execution_count": null,
      "outputs": [
        {
          "output_type": "display_data",
          "data": {
            "text/plain": [
              "<Figure size 640x480 with 1 Axes>"
            ],
            "image/png": "[encoded data removed]"
          },
          "metadata": {}
        }
      ]
    },
    {
      "cell_type": "markdown",
      "source": [
        "Show most important feature based on best parameters for XGBoost"
      ],
      "metadata": {
        "id": "2-PlXGkgI5M5"
      }
    },
    {
      "cell_type": "code",
      "source": [
        "feat_imp = pd.Series(xgbr.feature_importances_, index=X.columns).sort_values( ascending = False )\n",
        "plt.figure(figsize = (10,6))\n",
        "# ax = sns.barplot(x = feat_imp.index, y = feat_imp.values)\n",
        "ax = sns.barplot(x = feat_imp.index, y = feat_imp)\n",
        "ax.set_xticklabels( ax.get_xticklabels(), rotation = 90 )\n",
        "plt.xlabel('Feature')\n",
        "plt.ylabel('Feature Importance Score') ;"
      ],
      "metadata": {
        "colab": {
          "base_uri": "https://localhost:8080/",
          "height": 659
        },
        "outputId": "ce4bf9d3-7584-425b-d90f-a0421b78f0c9",
        "id": "XyS5vparI5M5"
      },
      "execution_count": null,
      "outputs": [
        {
          "output_type": "stream",
          "name": "stderr",
          "text": [
            "<ipython-input-138-53a9ef50f5fe>:5: UserWarning: set_ticklabels() should only be used with a fixed number of ticks, i.e. after set_ticks() or using a FixedLocator.\n",
            "  ax.set_xticklabels( ax.get_xticklabels(), rotation = 90 )\n"
          ]
        },
        {
          "output_type": "display_data",
          "data": {
            "text/plain": [
              "<Figure size 1000x600 with 1 Axes>"
            ],
            "image/png": "[encoded data removed]"
          },
          "metadata": {}
        }
      ]
    },
    {
      "cell_type": "code",
      "source": [
        "(feat_imp.sort_values( ascending = False )*100).cumsum()\n"
      ],
      "metadata": {
        "colab": {
          "base_uri": "https://localhost:8080/",
          "height": 241
        },
        "outputId": "44a6180e-99b9-465b-db14-b8d13dc4f2f3",
        "id": "iR8jIB0AI5M5"
      },
      "execution_count": null,
      "outputs": [
        {
          "output_type": "execute_result",
          "data": {
            "text/plain": [
              "Speechiness       32.173779\n",
              "Tempo             63.452950\n",
              "Liveness          81.032356\n",
              "Loudness          93.255371\n",
              "Duration (ms)    100.000000\n",
              "dtype: float32"
            ],
            "text/html": [
              "<div>\n",
              "<style scoped>\n",
              "    .dataframe tbody tr th:only-of-type {\n",
              "        vertical-align: middle;\n",
              "    }\n",
              "\n",
              "    .dataframe tbody tr th {\n",
              "        vertical-align: top;\n",
              "    }\n",
              "\n",
              "    .dataframe thead th {\n",
              "        text-align: right;\n",
              "    }\n",
              "</style>\n",
              "<table border=\"1\" class=\"dataframe\">\n",
              "  <thead>\n",
              "    <tr style=\"text-align: right;\">\n",
              "      <th></th>\n",
              "      <th>0</th>\n",
              "    </tr>\n",
              "  </thead>\n",
              "  <tbody>\n",
              "    <tr>\n",
              "      <th>Speechiness</th>\n",
              "      <td>32.173779</td>\n",
              "    </tr>\n",
              "    <tr>\n",
              "      <th>Tempo</th>\n",
              "      <td>63.452950</td>\n",
              "    </tr>\n",
              "    <tr>\n",
              "      <th>Liveness</th>\n",
              "      <td>81.032356</td>\n",
              "    </tr>\n",
              "    <tr>\n",
              "      <th>Loudness</th>\n",
              "      <td>93.255371</td>\n",
              "    </tr>\n",
              "    <tr>\n",
              "      <th>Duration (ms)</th>\n",
              "      <td>100.000000</td>\n",
              "    </tr>\n",
              "  </tbody>\n",
              "</table>\n",
              "</div><br><label><b>dtype:</b> float32</label>"
            ]
          },
          "metadata": {},
          "execution_count": 139
        }
      ]
    },
    {
      "cell_type": "code",
      "source": [
        "plt.bar(RMSE.keys(), RMSE.values())\n",
        "plt.title('RMSE of processing methods')\n",
        "plt.tight_layout() # Adjust layout to prevent labels from overlapping\n",
        "plt.xticks(rotation='vertical')"
      ],
      "metadata": {
        "colab": {
          "base_uri": "https://localhost:8080/",
          "height": 781
        },
        "id": "wiiEuD1Mrnq2",
        "outputId": "74c94fd2-c737-4795-ea06-df91ca720ee2"
      },
      "execution_count": null,
      "outputs": [
        {
          "output_type": "execute_result",
          "data": {
            "text/plain": [
              "([0, 1, 2, 3, 4, 5, 6, 7, 8, 9],\n",
              " [Text(0, 0, 'Descision Tree'),\n",
              "  Text(1, 0, 'Random Forest'),\n",
              "  Text(2, 0, 'XGBoost 1'),\n",
              "  Text(3, 0, 'XGBoost 2'),\n",
              "  Text(4, 0, 'XGBoost 3'),\n",
              "  Text(5, 0, 'Descision Tree 2'),\n",
              "  Text(6, 0, 'Random Forest 2'),\n",
              "  Text(7, 0, 'XGBoost 2.1'),\n",
              "  Text(8, 0, 'XGBoost 2.2'),\n",
              "  Text(9, 0, 'XGBoost 2.3')])"
            ]
          },
          "metadata": {},
          "execution_count": 146
        },
        {
          "output_type": "display_data",
          "data": {
            "text/plain": [
              "<Figure size 640x480 with 1 Axes>"
            ],
            "image/png": "[encoded data removed]"
          },
          "metadata": {}
        }
      ]
    },
    {
      "cell_type": "code",
      "source": [],
      "metadata": {
        "id": "ePOvqJvrrqiG"
      },
      "execution_count": null,
      "outputs": []
    }
  ]
}